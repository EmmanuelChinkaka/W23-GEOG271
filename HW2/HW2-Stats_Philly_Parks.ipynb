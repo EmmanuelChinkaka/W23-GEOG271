{
  "nbformat": 4,
  "nbformat_minor": 0,
  "metadata": {
    "colab": {
      "provenance": [],
      "include_colab_link": true
    },
    "kernelspec": {
      "name": "python3",
      "display_name": "Python 3"
    },
    "language_info": {
      "name": "python"
    }
  },
  "cells": [
    {
      "cell_type": "markdown",
      "metadata": {
        "id": "view-in-github",
        "colab_type": "text"
      },
      "source": [
        "<a href=\"https://colab.research.google.com/github/EmmanuelChinkaka/W23-GEOG271/blob/main/HW2/HW2-Stats_Philly_Parks.ipynb\" target=\"_parent\"><img src=\"https://colab.research.google.com/assets/colab-badge.svg\" alt=\"Open In Colab\"/></a>"
      ]
    },
    {
      "cell_type": "markdown",
      "metadata": {
        "id": "8f3dS08NNI9L"
      },
      "source": [
        "# HW2 : Summary statistics - For GEOG271\n",
        "\n",
        "**By Emmanuel Chinkaka**\n",
        "\n",
        "\n",
        "This homework performs strictly an exploratory analysis of the data\n",
        "\n",
        "Consult the class demo noteboo for more: https://github.com/EmmanuelChinkaka/W23-GEOG271/blob/main/Class_Demo/Descriptive_Stats.ipynb \n",
        "\n",
        "\n",
        "**important**\n",
        "turn in the notebook by uploading it to your github repository in a folder called HW2. Before you upload the notebook make sure you \n",
        "- click above: Runtime -> Restart and run all\n",
        "\n",
        "this will assure that your notebook has no bugs due to running the cells of code out of order.\n"
      ]
    },
    {
      "cell_type": "markdown",
      "source": [
        "**This assigment explores the Philadephia parks data**"
      ],
      "metadata": {
        "id": "Es_iUZSOkU8I"
      }
    },
    {
      "cell_type": "code",
      "execution_count": 2,
      "metadata": {
        "id": "cQ2-f1MR5zO5"
      },
      "outputs": [],
      "source": [
        "# Importing package\n",
        "\n",
        "import pandas as pd\n",
        "import pylab\n",
        "import numpy as np\n",
        "import matplotlib.pyplot as plt\n",
        "import seaborn as sns\n"
      ]
    },
    {
      "cell_type": "markdown",
      "source": [
        "**Read in the data about the Philly parks**\n",
        "\n",
        "you can find the data at http://data-phl.opendata.arcgis.com/datasets/d52445160ab14380a673e5849203eb64_0.csv\n",
        "**Copy the URL above and use it to load the data**"
      ],
      "metadata": {
        "id": "F6UnShk586W3"
      }
    },
    {
      "cell_type": "code",
      "source": [
        "# Reading the Phylly's park data from the URL baove\n",
        "pparks = pd.read_csv(...)"
      ],
      "metadata": {
        "id": "zMdjrPrt8_Gc"
      },
      "execution_count": 3,
      "outputs": []
    },
    {
      "cell_type": "code",
      "source": [
        "# get the info and the statistical description of the dataframe\n",
        "pparks.info()"
      ],
      "metadata": {
        "id": "Tu-0OQ8ECQEv",
        "colab": {
          "base_uri": "https://localhost:8080/"
        },
        "outputId": "5f1075c0-9694-4d1d-8bc2-71ff359bd3eb"
      },
      "execution_count": null,
      "outputs": [
        {
          "output_type": "stream",
          "name": "stdout",
          "text": [
            "<class 'pandas.core.frame.DataFrame'>\n",
            "RangeIndex: 517 entries, 0 to 516\n",
            "Data columns (total 25 columns):\n",
            " #   Column                   Non-Null Count  Dtype  \n",
            "---  ------                   --------------  -----  \n",
            " 0   OBJECTID                 517 non-null    int64  \n",
            " 1   PUBLIC_NAME              517 non-null    object \n",
            " 2   PARENT_NAME              517 non-null    object \n",
            " 3   NESTED                   517 non-null    object \n",
            " 4   OFFICIAL_NAME            287 non-null    object \n",
            " 5   LABEL                    515 non-null    object \n",
            " 6   ALIAS                    356 non-null    object \n",
            " 7   DPP_ASSET_ID             517 non-null    int64  \n",
            " 8   ADDRESS_911              514 non-null    object \n",
            " 9   ZIP_CODE                 517 non-null    int64  \n",
            " 10  ADDRESS_BRT              433 non-null    object \n",
            " 11  ALIAS_ADDRESS            431 non-null    object \n",
            " 12  ACREAGE                  517 non-null    float64\n",
            " 13  PROPERTY_CLASSIFICATION  517 non-null    object \n",
            " 14  PPR_USE                  517 non-null    object \n",
            " 15  PPR_DISTRICT             517 non-null    int64  \n",
            " 16  PPR_OPS_DISTRICT         517 non-null    object \n",
            " 17  COUNCIL_DISTRICT         516 non-null    object \n",
            " 18  POLICE_DISTRICT          516 non-null    object \n",
            " 19  CITY_SCALE_MAPS          517 non-null    object \n",
            " 20  LOCAL_SCALE_MAPS         517 non-null    object \n",
            " 21  PROGRAM_SITES            517 non-null    object \n",
            " 22  COMMENTS                 146 non-null    object \n",
            " 23  Shape__Area              517 non-null    float64\n",
            " 24  Shape__Length            517 non-null    float64\n",
            "dtypes: float64(3), int64(4), object(18)\n",
            "memory usage: 101.1+ KB\n"
          ]
        }
      ]
    },
    {
      "cell_type": "code",
      "metadata": {
        "id": "16pd9FMlPpBA",
        "colab": {
          "base_uri": "https://localhost:8080/"
        },
        "outputId": "17becb94-6e94-4a47-9b6b-522403307956"
      },
      "source": [
        "# show the shape of the parks file dataframe\n",
        "..."
      ],
      "execution_count": null,
      "outputs": [
        {
          "output_type": "execute_result",
          "data": {
            "text/plain": [
              "(517, 25)"
            ]
          },
          "metadata": {},
          "execution_count": 4
        }
      ]
    },
    {
      "cell_type": "code",
      "source": [
        "# show the column names in the dataframe\n",
        "pparks.columns"
      ],
      "metadata": {
        "colab": {
          "base_uri": "https://localhost:8080/"
        },
        "id": "B4qPHupF-cwY",
        "outputId": "aa1ae07f-8e56-4d13-fce1-89c44c6e0959"
      },
      "execution_count": null,
      "outputs": [
        {
          "output_type": "execute_result",
          "data": {
            "text/plain": [
              "Index(['OBJECTID', 'PUBLIC_NAME', 'PARENT_NAME', 'NESTED', 'OFFICIAL_NAME',\n",
              "       'LABEL', 'ALIAS', 'DPP_ASSET_ID', 'ADDRESS_911', 'ZIP_CODE',\n",
              "       'ADDRESS_BRT', 'ALIAS_ADDRESS', 'ACREAGE', 'PROPERTY_CLASSIFICATION',\n",
              "       'PPR_USE', 'PPR_DISTRICT', 'PPR_OPS_DISTRICT', 'COUNCIL_DISTRICT',\n",
              "       'POLICE_DISTRICT', 'CITY_SCALE_MAPS', 'LOCAL_SCALE_MAPS',\n",
              "       'PROGRAM_SITES', 'COMMENTS', 'Shape__Area', 'Shape__Length'],\n",
              "      dtype='object')"
            ]
          },
          "metadata": {},
          "execution_count": 5
        }
      ]
    },
    {
      "cell_type": "code",
      "source": [
        "# show the beginning of the dataframe (the first 5 rows)\n",
        "..."
      ],
      "metadata": {
        "colab": {
          "base_uri": "https://localhost:8080/",
          "height": 629
        },
        "id": "RS8Ipjvw-jge",
        "outputId": "5a40075f-9715-46ae-d945-365c3f0501fc"
      },
      "execution_count": null,
      "outputs": [
        {
          "output_type": "execute_result",
          "data": {
            "text/plain": [
              "   OBJECTID                                     PUBLIC_NAME  \\\n",
              "0         1  William H (Billy) Markward Memorial Playground   \n",
              "1         2                                Schuylkill Banks   \n",
              "2         3                           Schuylkill River Park   \n",
              "3         4                           Frankford Boat Launch   \n",
              "4         5                            Orthodox Street Park   \n",
              "\n",
              "             PARENT_NAME NESTED  \\\n",
              "0  Schuylkill River Park      Y   \n",
              "1       Schuylkill Banks      N   \n",
              "2  Schuylkill River Park      N   \n",
              "3  Frankford Boat Launch      N   \n",
              "4   Orthodox Street Park      N   \n",
              "\n",
              "                                     OFFICIAL_NAME                  LABEL  \\\n",
              "0  William H. (Billy) Markward Memorial Playground              Markward    \n",
              "1                                              NaN       Schuylkill Banks   \n",
              "2                                              NaN  Schuylkill River Park   \n",
              "3                            Frankford Boat Launch       Frankford Launch   \n",
              "4                                              NaN               Orthodox   \n",
              "\n",
              "                                               ALIAS  DPP_ASSET_ID  \\\n",
              "0                                                NaN          1903   \n",
              "1                              Schuylkill River Park          2794   \n",
              "2                                                NaN          2992   \n",
              "3       PA Fish & Boat;Frankford Arsenal Boat Launch          3090   \n",
              "4  Orthodox Street Parcel; Bridesburg Riverfront ...          3091   \n",
              "\n",
              "        ADDRESS_911  ZIP_CODE  ... PPR_DISTRICT PPR_OPS_DISTRICT  \\\n",
              "0    400 S TANEY ST     19146  ...            7             5, 7   \n",
              "1    400 S TANEY ST     19103  ...            7             5, 7   \n",
              "2    400 S TANEY ST     19146  ...            7             5, 7   \n",
              "3    5625 TACONY ST     19137  ...            2                2   \n",
              "4  3101 ORTHODOX ST     19137  ...            5                2   \n",
              "\n",
              "   COUNCIL_DISTRICT POLICE_DISTRICT CITY_SCALE_MAPS  LOCAL_SCALE_MAPS  \\\n",
              "0                 2               9               Y                 Y   \n",
              "1              2, 5           9, 17               Y                 Y   \n",
              "2                 2               9               Y                 Y   \n",
              "3                 6              15               Y                 Y   \n",
              "4                 6              15               N                 N   \n",
              "\n",
              "  PROGRAM_SITES                                           COMMENTS  \\\n",
              "0             Y                                                NaN   \n",
              "1             N    Bill 160113 (4/14/16) -South of South St Bridge   \n",
              "2             N                                                NaN   \n",
              "3             N                                                NaN   \n",
              "4             N  Officially acquired from PAID in 10/2019. Doc ...   \n",
              "\n",
              "     Shape__Area Shape__Length  \n",
              "0   23295.664062    892.868012  \n",
              "1  101477.171875   9300.670275  \n",
              "2   27216.929688    799.048584  \n",
              "3   78515.335938   1585.376114  \n",
              "4   72926.187500   1304.901416  \n",
              "\n",
              "[5 rows x 25 columns]"
            ],
            "text/html": [
              "\n",
              "  <div id=\"df-7eccbd82-ce83-42e8-9eb3-8b98cd7739f2\">\n",
              "    <div class=\"colab-df-container\">\n",
              "      <div>\n",
              "<style scoped>\n",
              "    .dataframe tbody tr th:only-of-type {\n",
              "        vertical-align: middle;\n",
              "    }\n",
              "\n",
              "    .dataframe tbody tr th {\n",
              "        vertical-align: top;\n",
              "    }\n",
              "\n",
              "    .dataframe thead th {\n",
              "        text-align: right;\n",
              "    }\n",
              "</style>\n",
              "<table border=\"1\" class=\"dataframe\">\n",
              "  <thead>\n",
              "    <tr style=\"text-align: right;\">\n",
              "      <th></th>\n",
              "      <th>OBJECTID</th>\n",
              "      <th>PUBLIC_NAME</th>\n",
              "      <th>PARENT_NAME</th>\n",
              "      <th>NESTED</th>\n",
              "      <th>OFFICIAL_NAME</th>\n",
              "      <th>LABEL</th>\n",
              "      <th>ALIAS</th>\n",
              "      <th>DPP_ASSET_ID</th>\n",
              "      <th>ADDRESS_911</th>\n",
              "      <th>ZIP_CODE</th>\n",
              "      <th>...</th>\n",
              "      <th>PPR_DISTRICT</th>\n",
              "      <th>PPR_OPS_DISTRICT</th>\n",
              "      <th>COUNCIL_DISTRICT</th>\n",
              "      <th>POLICE_DISTRICT</th>\n",
              "      <th>CITY_SCALE_MAPS</th>\n",
              "      <th>LOCAL_SCALE_MAPS</th>\n",
              "      <th>PROGRAM_SITES</th>\n",
              "      <th>COMMENTS</th>\n",
              "      <th>Shape__Area</th>\n",
              "      <th>Shape__Length</th>\n",
              "    </tr>\n",
              "  </thead>\n",
              "  <tbody>\n",
              "    <tr>\n",
              "      <th>0</th>\n",
              "      <td>1</td>\n",
              "      <td>William H (Billy) Markward Memorial Playground</td>\n",
              "      <td>Schuylkill River Park</td>\n",
              "      <td>Y</td>\n",
              "      <td>William H. (Billy) Markward Memorial Playground</td>\n",
              "      <td>Markward</td>\n",
              "      <td>NaN</td>\n",
              "      <td>1903</td>\n",
              "      <td>400 S TANEY ST</td>\n",
              "      <td>19146</td>\n",
              "      <td>...</td>\n",
              "      <td>7</td>\n",
              "      <td>5, 7</td>\n",
              "      <td>2</td>\n",
              "      <td>9</td>\n",
              "      <td>Y</td>\n",
              "      <td>Y</td>\n",
              "      <td>Y</td>\n",
              "      <td>NaN</td>\n",
              "      <td>23295.664062</td>\n",
              "      <td>892.868012</td>\n",
              "    </tr>\n",
              "    <tr>\n",
              "      <th>1</th>\n",
              "      <td>2</td>\n",
              "      <td>Schuylkill Banks</td>\n",
              "      <td>Schuylkill Banks</td>\n",
              "      <td>N</td>\n",
              "      <td>NaN</td>\n",
              "      <td>Schuylkill Banks</td>\n",
              "      <td>Schuylkill River Park</td>\n",
              "      <td>2794</td>\n",
              "      <td>400 S TANEY ST</td>\n",
              "      <td>19103</td>\n",
              "      <td>...</td>\n",
              "      <td>7</td>\n",
              "      <td>5, 7</td>\n",
              "      <td>2, 5</td>\n",
              "      <td>9, 17</td>\n",
              "      <td>Y</td>\n",
              "      <td>Y</td>\n",
              "      <td>N</td>\n",
              "      <td>Bill 160113 (4/14/16) -South of South St Bridge</td>\n",
              "      <td>101477.171875</td>\n",
              "      <td>9300.670275</td>\n",
              "    </tr>\n",
              "    <tr>\n",
              "      <th>2</th>\n",
              "      <td>3</td>\n",
              "      <td>Schuylkill River Park</td>\n",
              "      <td>Schuylkill River Park</td>\n",
              "      <td>N</td>\n",
              "      <td>NaN</td>\n",
              "      <td>Schuylkill River Park</td>\n",
              "      <td>NaN</td>\n",
              "      <td>2992</td>\n",
              "      <td>400 S TANEY ST</td>\n",
              "      <td>19146</td>\n",
              "      <td>...</td>\n",
              "      <td>7</td>\n",
              "      <td>5, 7</td>\n",
              "      <td>2</td>\n",
              "      <td>9</td>\n",
              "      <td>Y</td>\n",
              "      <td>Y</td>\n",
              "      <td>N</td>\n",
              "      <td>NaN</td>\n",
              "      <td>27216.929688</td>\n",
              "      <td>799.048584</td>\n",
              "    </tr>\n",
              "    <tr>\n",
              "      <th>3</th>\n",
              "      <td>4</td>\n",
              "      <td>Frankford Boat Launch</td>\n",
              "      <td>Frankford Boat Launch</td>\n",
              "      <td>N</td>\n",
              "      <td>Frankford Boat Launch</td>\n",
              "      <td>Frankford Launch</td>\n",
              "      <td>PA Fish &amp; Boat;Frankford Arsenal Boat Launch</td>\n",
              "      <td>3090</td>\n",
              "      <td>5625 TACONY ST</td>\n",
              "      <td>19137</td>\n",
              "      <td>...</td>\n",
              "      <td>2</td>\n",
              "      <td>2</td>\n",
              "      <td>6</td>\n",
              "      <td>15</td>\n",
              "      <td>Y</td>\n",
              "      <td>Y</td>\n",
              "      <td>N</td>\n",
              "      <td>NaN</td>\n",
              "      <td>78515.335938</td>\n",
              "      <td>1585.376114</td>\n",
              "    </tr>\n",
              "    <tr>\n",
              "      <th>4</th>\n",
              "      <td>5</td>\n",
              "      <td>Orthodox Street Park</td>\n",
              "      <td>Orthodox Street Park</td>\n",
              "      <td>N</td>\n",
              "      <td>NaN</td>\n",
              "      <td>Orthodox</td>\n",
              "      <td>Orthodox Street Parcel; Bridesburg Riverfront ...</td>\n",
              "      <td>3091</td>\n",
              "      <td>3101 ORTHODOX ST</td>\n",
              "      <td>19137</td>\n",
              "      <td>...</td>\n",
              "      <td>5</td>\n",
              "      <td>2</td>\n",
              "      <td>6</td>\n",
              "      <td>15</td>\n",
              "      <td>N</td>\n",
              "      <td>N</td>\n",
              "      <td>N</td>\n",
              "      <td>Officially acquired from PAID in 10/2019. Doc ...</td>\n",
              "      <td>72926.187500</td>\n",
              "      <td>1304.901416</td>\n",
              "    </tr>\n",
              "  </tbody>\n",
              "</table>\n",
              "<p>5 rows × 25 columns</p>\n",
              "</div>\n",
              "      <button class=\"colab-df-convert\" onclick=\"convertToInteractive('df-7eccbd82-ce83-42e8-9eb3-8b98cd7739f2')\"\n",
              "              title=\"Convert this dataframe to an interactive table.\"\n",
              "              style=\"display:none;\">\n",
              "        \n",
              "  <svg xmlns=\"http://www.w3.org/2000/svg\" height=\"24px\"viewBox=\"0 0 24 24\"\n",
              "       width=\"24px\">\n",
              "    <path d=\"M0 0h24v24H0V0z\" fill=\"none\"/>\n",
              "    <path d=\"M18.56 5.44l.94 2.06.94-2.06 2.06-.94-2.06-.94-.94-2.06-.94 2.06-2.06.94zm-11 1L8.5 8.5l.94-2.06 2.06-.94-2.06-.94L8.5 2.5l-.94 2.06-2.06.94zm10 10l.94 2.06.94-2.06 2.06-.94-2.06-.94-.94-2.06-.94 2.06-2.06.94z\"/><path d=\"M17.41 7.96l-1.37-1.37c-.4-.4-.92-.59-1.43-.59-.52 0-1.04.2-1.43.59L10.3 9.45l-7.72 7.72c-.78.78-.78 2.05 0 2.83L4 21.41c.39.39.9.59 1.41.59.51 0 1.02-.2 1.41-.59l7.78-7.78 2.81-2.81c.8-.78.8-2.07 0-2.86zM5.41 20L4 18.59l7.72-7.72 1.47 1.35L5.41 20z\"/>\n",
              "  </svg>\n",
              "      </button>\n",
              "      \n",
              "  <style>\n",
              "    .colab-df-container {\n",
              "      display:flex;\n",
              "      flex-wrap:wrap;\n",
              "      gap: 12px;\n",
              "    }\n",
              "\n",
              "    .colab-df-convert {\n",
              "      background-color: #E8F0FE;\n",
              "      border: none;\n",
              "      border-radius: 50%;\n",
              "      cursor: pointer;\n",
              "      display: none;\n",
              "      fill: #1967D2;\n",
              "      height: 32px;\n",
              "      padding: 0 0 0 0;\n",
              "      width: 32px;\n",
              "    }\n",
              "\n",
              "    .colab-df-convert:hover {\n",
              "      background-color: #E2EBFA;\n",
              "      box-shadow: 0px 1px 2px rgba(60, 64, 67, 0.3), 0px 1px 3px 1px rgba(60, 64, 67, 0.15);\n",
              "      fill: #174EA6;\n",
              "    }\n",
              "\n",
              "    [theme=dark] .colab-df-convert {\n",
              "      background-color: #3B4455;\n",
              "      fill: #D2E3FC;\n",
              "    }\n",
              "\n",
              "    [theme=dark] .colab-df-convert:hover {\n",
              "      background-color: #434B5C;\n",
              "      box-shadow: 0px 1px 3px 1px rgba(0, 0, 0, 0.15);\n",
              "      filter: drop-shadow(0px 1px 2px rgba(0, 0, 0, 0.3));\n",
              "      fill: #FFFFFF;\n",
              "    }\n",
              "  </style>\n",
              "\n",
              "      <script>\n",
              "        const buttonEl =\n",
              "          document.querySelector('#df-7eccbd82-ce83-42e8-9eb3-8b98cd7739f2 button.colab-df-convert');\n",
              "        buttonEl.style.display =\n",
              "          google.colab.kernel.accessAllowed ? 'block' : 'none';\n",
              "\n",
              "        async function convertToInteractive(key) {\n",
              "          const element = document.querySelector('#df-7eccbd82-ce83-42e8-9eb3-8b98cd7739f2');\n",
              "          const dataTable =\n",
              "            await google.colab.kernel.invokeFunction('convertToInteractive',\n",
              "                                                     [key], {});\n",
              "          if (!dataTable) return;\n",
              "\n",
              "          const docLinkHtml = 'Like what you see? Visit the ' +\n",
              "            '<a target=\"_blank\" href=https://colab.research.google.com/notebooks/data_table.ipynb>data table notebook</a>'\n",
              "            + ' to learn more about interactive tables.';\n",
              "          element.innerHTML = '';\n",
              "          dataTable['output_type'] = 'display_data';\n",
              "          await google.colab.output.renderOutput(dataTable, element);\n",
              "          const docLink = document.createElement('div');\n",
              "          docLink.innerHTML = docLinkHtml;\n",
              "          element.appendChild(docLink);\n",
              "        }\n",
              "      </script>\n",
              "    </div>\n",
              "  </div>\n",
              "  "
            ]
          },
          "metadata": {},
          "execution_count": 6
        }
      ]
    },
    {
      "cell_type": "code",
      "source": [
        "# show the end of the dataframe (the last 5 rows)\n",
        "pparks.tail()"
      ],
      "metadata": {
        "colab": {
          "base_uri": "https://localhost:8080/",
          "height": 629
        },
        "id": "RLD_r2_6-tmA",
        "outputId": "5c649ac2-b650-40e7-cb96-deb999b8cd53"
      },
      "execution_count": null,
      "outputs": [
        {
          "output_type": "execute_result",
          "data": {
            "text/plain": [
              "     OBJECTID                               PUBLIC_NAME  \\\n",
              "512       513  Officer Robert Hayes Memorial Playground   \n",
              "513       514                 Benjamin Franklin Parkway   \n",
              "514       515                    Winter Street Greenway   \n",
              "515       516                 61st and Cobbs Creek Park   \n",
              "516       517                 Lawrence Court Breezeways   \n",
              "\n",
              "                                  PARENT_NAME NESTED  \\\n",
              "512  Officer Robert Hayes Memorial Playground      N   \n",
              "513                 Benjamin Franklin Parkway      N   \n",
              "514                 Benjamin Franklin Parkway      Y   \n",
              "515                          Cobbs Creek Park      Y   \n",
              "516                 Lawrence Court Breezeways      N   \n",
              "\n",
              "                                OFFICIAL_NAME                   LABEL  \\\n",
              "512  Officer Robert Hayes Memorial Playground                   Hayes   \n",
              "513                 Benjamin Franklin Parkway  Benjamin Franklin Pkwy   \n",
              "514                                       NaN         Winter Greenway   \n",
              "515                                       NaN    61st and Cobbs Creek   \n",
              "516                                       NaN      Lawrence Breezeway   \n",
              "\n",
              "                                                 ALIAS  DPP_ASSET_ID  \\\n",
              "512                              Swenson Park, Conwell          1923   \n",
              "513                                        The Parkway          1226   \n",
              "514  Rob Stuart Memorial Dog Park; Winter Street Gr...             0   \n",
              "515                                                             3481   \n",
              "516                            Lawrence Court Walkways          3867   \n",
              "\n",
              "            ADDRESS_911  ZIP_CODE  ... PPR_DISTRICT PPR_OPS_DISTRICT  \\\n",
              "512   9949 PRESIDENT ST     19115  ...            1                1   \n",
              "513   BENJ FRANKLIN PKY         0  ...            7                5   \n",
              "514   BENJ FRANKLIN PKY         0  ...            7                5   \n",
              "515  61ST & COBBS CREEK     19143  ...            8                8   \n",
              "516     335 LAWRENCE CT     19106  ...           10                5   \n",
              "\n",
              "     COUNCIL_DISTRICT POLICE_DISTRICT CITY_SCALE_MAPS  LOCAL_SCALE_MAPS  \\\n",
              "512                10               7               Y                 Y   \n",
              "513                 5               9               Y                 Y   \n",
              "514                 5               9               N                 Y   \n",
              "515                 3              18               Y                 Y   \n",
              "516                 1               6               N                 Y   \n",
              "\n",
              "    PROGRAM_SITES                                           COMMENTS  \\\n",
              "512             Y                                                NaN   \n",
              "513             N  22nd and Hamilton 'wedge' added (Street Legal ...   \n",
              "514             N  Named in 2021. Winter (21st-22nd) has a dog pa...   \n",
              "515             Y                                                NaN   \n",
              "516             N                                                NaN   \n",
              "\n",
              "       Shape__Area Shape__Length  \n",
              "512  139660.027344   1698.902277  \n",
              "513  103066.453125   9195.466911  \n",
              "514    5386.812500    679.857371  \n",
              "515   35596.937500   1037.395645  \n",
              "516    1945.863281    394.259401  \n",
              "\n",
              "[5 rows x 25 columns]"
            ],
            "text/html": [
              "\n",
              "  <div id=\"df-bb95f47b-7cfa-422b-920a-619f657da079\">\n",
              "    <div class=\"colab-df-container\">\n",
              "      <div>\n",
              "<style scoped>\n",
              "    .dataframe tbody tr th:only-of-type {\n",
              "        vertical-align: middle;\n",
              "    }\n",
              "\n",
              "    .dataframe tbody tr th {\n",
              "        vertical-align: top;\n",
              "    }\n",
              "\n",
              "    .dataframe thead th {\n",
              "        text-align: right;\n",
              "    }\n",
              "</style>\n",
              "<table border=\"1\" class=\"dataframe\">\n",
              "  <thead>\n",
              "    <tr style=\"text-align: right;\">\n",
              "      <th></th>\n",
              "      <th>OBJECTID</th>\n",
              "      <th>PUBLIC_NAME</th>\n",
              "      <th>PARENT_NAME</th>\n",
              "      <th>NESTED</th>\n",
              "      <th>OFFICIAL_NAME</th>\n",
              "      <th>LABEL</th>\n",
              "      <th>ALIAS</th>\n",
              "      <th>DPP_ASSET_ID</th>\n",
              "      <th>ADDRESS_911</th>\n",
              "      <th>ZIP_CODE</th>\n",
              "      <th>...</th>\n",
              "      <th>PPR_DISTRICT</th>\n",
              "      <th>PPR_OPS_DISTRICT</th>\n",
              "      <th>COUNCIL_DISTRICT</th>\n",
              "      <th>POLICE_DISTRICT</th>\n",
              "      <th>CITY_SCALE_MAPS</th>\n",
              "      <th>LOCAL_SCALE_MAPS</th>\n",
              "      <th>PROGRAM_SITES</th>\n",
              "      <th>COMMENTS</th>\n",
              "      <th>Shape__Area</th>\n",
              "      <th>Shape__Length</th>\n",
              "    </tr>\n",
              "  </thead>\n",
              "  <tbody>\n",
              "    <tr>\n",
              "      <th>512</th>\n",
              "      <td>513</td>\n",
              "      <td>Officer Robert Hayes Memorial Playground</td>\n",
              "      <td>Officer Robert Hayes Memorial Playground</td>\n",
              "      <td>N</td>\n",
              "      <td>Officer Robert Hayes Memorial Playground</td>\n",
              "      <td>Hayes</td>\n",
              "      <td>Swenson Park, Conwell</td>\n",
              "      <td>1923</td>\n",
              "      <td>9949 PRESIDENT ST</td>\n",
              "      <td>19115</td>\n",
              "      <td>...</td>\n",
              "      <td>1</td>\n",
              "      <td>1</td>\n",
              "      <td>10</td>\n",
              "      <td>7</td>\n",
              "      <td>Y</td>\n",
              "      <td>Y</td>\n",
              "      <td>Y</td>\n",
              "      <td>NaN</td>\n",
              "      <td>139660.027344</td>\n",
              "      <td>1698.902277</td>\n",
              "    </tr>\n",
              "    <tr>\n",
              "      <th>513</th>\n",
              "      <td>514</td>\n",
              "      <td>Benjamin Franklin Parkway</td>\n",
              "      <td>Benjamin Franklin Parkway</td>\n",
              "      <td>N</td>\n",
              "      <td>Benjamin Franklin Parkway</td>\n",
              "      <td>Benjamin Franklin Pkwy</td>\n",
              "      <td>The Parkway</td>\n",
              "      <td>1226</td>\n",
              "      <td>BENJ FRANKLIN PKY</td>\n",
              "      <td>0</td>\n",
              "      <td>...</td>\n",
              "      <td>7</td>\n",
              "      <td>5</td>\n",
              "      <td>5</td>\n",
              "      <td>9</td>\n",
              "      <td>Y</td>\n",
              "      <td>Y</td>\n",
              "      <td>N</td>\n",
              "      <td>22nd and Hamilton 'wedge' added (Street Legal ...</td>\n",
              "      <td>103066.453125</td>\n",
              "      <td>9195.466911</td>\n",
              "    </tr>\n",
              "    <tr>\n",
              "      <th>514</th>\n",
              "      <td>515</td>\n",
              "      <td>Winter Street Greenway</td>\n",
              "      <td>Benjamin Franklin Parkway</td>\n",
              "      <td>Y</td>\n",
              "      <td>NaN</td>\n",
              "      <td>Winter Greenway</td>\n",
              "      <td>Rob Stuart Memorial Dog Park; Winter Street Gr...</td>\n",
              "      <td>0</td>\n",
              "      <td>BENJ FRANKLIN PKY</td>\n",
              "      <td>0</td>\n",
              "      <td>...</td>\n",
              "      <td>7</td>\n",
              "      <td>5</td>\n",
              "      <td>5</td>\n",
              "      <td>9</td>\n",
              "      <td>N</td>\n",
              "      <td>Y</td>\n",
              "      <td>N</td>\n",
              "      <td>Named in 2021. Winter (21st-22nd) has a dog pa...</td>\n",
              "      <td>5386.812500</td>\n",
              "      <td>679.857371</td>\n",
              "    </tr>\n",
              "    <tr>\n",
              "      <th>515</th>\n",
              "      <td>516</td>\n",
              "      <td>61st and Cobbs Creek Park</td>\n",
              "      <td>Cobbs Creek Park</td>\n",
              "      <td>Y</td>\n",
              "      <td>NaN</td>\n",
              "      <td>61st and Cobbs Creek</td>\n",
              "      <td></td>\n",
              "      <td>3481</td>\n",
              "      <td>61ST &amp; COBBS CREEK</td>\n",
              "      <td>19143</td>\n",
              "      <td>...</td>\n",
              "      <td>8</td>\n",
              "      <td>8</td>\n",
              "      <td>3</td>\n",
              "      <td>18</td>\n",
              "      <td>Y</td>\n",
              "      <td>Y</td>\n",
              "      <td>Y</td>\n",
              "      <td>NaN</td>\n",
              "      <td>35596.937500</td>\n",
              "      <td>1037.395645</td>\n",
              "    </tr>\n",
              "    <tr>\n",
              "      <th>516</th>\n",
              "      <td>517</td>\n",
              "      <td>Lawrence Court Breezeways</td>\n",
              "      <td>Lawrence Court Breezeways</td>\n",
              "      <td>N</td>\n",
              "      <td>NaN</td>\n",
              "      <td>Lawrence Breezeway</td>\n",
              "      <td>Lawrence Court Walkways</td>\n",
              "      <td>3867</td>\n",
              "      <td>335 LAWRENCE CT</td>\n",
              "      <td>19106</td>\n",
              "      <td>...</td>\n",
              "      <td>10</td>\n",
              "      <td>5</td>\n",
              "      <td>1</td>\n",
              "      <td>6</td>\n",
              "      <td>N</td>\n",
              "      <td>Y</td>\n",
              "      <td>N</td>\n",
              "      <td>NaN</td>\n",
              "      <td>1945.863281</td>\n",
              "      <td>394.259401</td>\n",
              "    </tr>\n",
              "  </tbody>\n",
              "</table>\n",
              "<p>5 rows × 25 columns</p>\n",
              "</div>\n",
              "      <button class=\"colab-df-convert\" onclick=\"convertToInteractive('df-bb95f47b-7cfa-422b-920a-619f657da079')\"\n",
              "              title=\"Convert this dataframe to an interactive table.\"\n",
              "              style=\"display:none;\">\n",
              "        \n",
              "  <svg xmlns=\"http://www.w3.org/2000/svg\" height=\"24px\"viewBox=\"0 0 24 24\"\n",
              "       width=\"24px\">\n",
              "    <path d=\"M0 0h24v24H0V0z\" fill=\"none\"/>\n",
              "    <path d=\"M18.56 5.44l.94 2.06.94-2.06 2.06-.94-2.06-.94-.94-2.06-.94 2.06-2.06.94zm-11 1L8.5 8.5l.94-2.06 2.06-.94-2.06-.94L8.5 2.5l-.94 2.06-2.06.94zm10 10l.94 2.06.94-2.06 2.06-.94-2.06-.94-.94-2.06-.94 2.06-2.06.94z\"/><path d=\"M17.41 7.96l-1.37-1.37c-.4-.4-.92-.59-1.43-.59-.52 0-1.04.2-1.43.59L10.3 9.45l-7.72 7.72c-.78.78-.78 2.05 0 2.83L4 21.41c.39.39.9.59 1.41.59.51 0 1.02-.2 1.41-.59l7.78-7.78 2.81-2.81c.8-.78.8-2.07 0-2.86zM5.41 20L4 18.59l7.72-7.72 1.47 1.35L5.41 20z\"/>\n",
              "  </svg>\n",
              "      </button>\n",
              "      \n",
              "  <style>\n",
              "    .colab-df-container {\n",
              "      display:flex;\n",
              "      flex-wrap:wrap;\n",
              "      gap: 12px;\n",
              "    }\n",
              "\n",
              "    .colab-df-convert {\n",
              "      background-color: #E8F0FE;\n",
              "      border: none;\n",
              "      border-radius: 50%;\n",
              "      cursor: pointer;\n",
              "      display: none;\n",
              "      fill: #1967D2;\n",
              "      height: 32px;\n",
              "      padding: 0 0 0 0;\n",
              "      width: 32px;\n",
              "    }\n",
              "\n",
              "    .colab-df-convert:hover {\n",
              "      background-color: #E2EBFA;\n",
              "      box-shadow: 0px 1px 2px rgba(60, 64, 67, 0.3), 0px 1px 3px 1px rgba(60, 64, 67, 0.15);\n",
              "      fill: #174EA6;\n",
              "    }\n",
              "\n",
              "    [theme=dark] .colab-df-convert {\n",
              "      background-color: #3B4455;\n",
              "      fill: #D2E3FC;\n",
              "    }\n",
              "\n",
              "    [theme=dark] .colab-df-convert:hover {\n",
              "      background-color: #434B5C;\n",
              "      box-shadow: 0px 1px 3px 1px rgba(0, 0, 0, 0.15);\n",
              "      filter: drop-shadow(0px 1px 2px rgba(0, 0, 0, 0.3));\n",
              "      fill: #FFFFFF;\n",
              "    }\n",
              "  </style>\n",
              "\n",
              "      <script>\n",
              "        const buttonEl =\n",
              "          document.querySelector('#df-bb95f47b-7cfa-422b-920a-619f657da079 button.colab-df-convert');\n",
              "        buttonEl.style.display =\n",
              "          google.colab.kernel.accessAllowed ? 'block' : 'none';\n",
              "\n",
              "        async function convertToInteractive(key) {\n",
              "          const element = document.querySelector('#df-bb95f47b-7cfa-422b-920a-619f657da079');\n",
              "          const dataTable =\n",
              "            await google.colab.kernel.invokeFunction('convertToInteractive',\n",
              "                                                     [key], {});\n",
              "          if (!dataTable) return;\n",
              "\n",
              "          const docLinkHtml = 'Like what you see? Visit the ' +\n",
              "            '<a target=\"_blank\" href=https://colab.research.google.com/notebooks/data_table.ipynb>data table notebook</a>'\n",
              "            + ' to learn more about interactive tables.';\n",
              "          element.innerHTML = '';\n",
              "          dataTable['output_type'] = 'display_data';\n",
              "          await google.colab.output.renderOutput(dataTable, element);\n",
              "          const docLink = document.createElement('div');\n",
              "          docLink.innerHTML = docLinkHtml;\n",
              "          element.appendChild(docLink);\n",
              "        }\n",
              "      </script>\n",
              "    </div>\n",
              "  </div>\n",
              "  "
            ]
          },
          "metadata": {},
          "execution_count": 7
        }
      ]
    },
    {
      "cell_type": "markdown",
      "source": [],
      "metadata": {
        "id": "7XQFKPWkAs1N"
      }
    },
    {
      "cell_type": "markdown",
      "metadata": {
        "id": "EyfxxJTQ1oKR"
      },
      "source": [
        "## meausre the central tendency of the Philly park sizes\n",
        "measure the mean and the median and compare them"
      ]
    },
    {
      "cell_type": "code",
      "source": [
        "meanps = pparks['ACREAGE'].mean()"
      ],
      "metadata": {
        "id": "euH8v32xCzlm"
      },
      "execution_count": null,
      "outputs": []
    },
    {
      "cell_type": "code",
      "source": [
        "# show the mean and median sizes of the dataframe \n",
        "# are they the same? \n",
        ".....\n",
        "\n",
        "# Printing the mean and median\n",
        ".....\n",
        "\n"
      ],
      "metadata": {
        "colab": {
          "base_uri": "https://localhost:8080/"
        },
        "id": "aqRpJYTiCMy-",
        "outputId": "ac112f11-d8d3-45ed-cdc5-cec8d2978dc0"
      },
      "execution_count": null,
      "outputs": [
        {
          "output_type": "stream",
          "name": "stdout",
          "text": [
            "The Mean is: 19.619205270754357\n",
            "The Median is: 3.37914443\n"
          ]
        }
      ]
    },
    {
      "cell_type": "markdown",
      "source": [
        "1. what can you conclude from the values of the mean and median you extracted? (discuss in a text cell below)\n",
        "\n",
        "2. What can you say about the distribution of the ACREAGE variable in the data? \n",
        "\n",
        "\n",
        "\n"
      ],
      "metadata": {
        "id": "Jfu_AxT9DY-U"
      }
    },
    {
      "cell_type": "markdown",
      "source": [
        "hint: to plot a line over the histogram use pl.axvline(x=myx) and pass to this function the x value corresponding to the mean and to the median (in my example that would be called myx). As a default, this will plot a line that spanns the whole y range"
      ],
      "metadata": {
        "id": "IGkSdkRvGDkd"
      }
    },
    {
      "cell_type": "markdown",
      "source": [
        "hint: you can import the plotting package matplotlib.pylab and call pylab functions as \n",
        "```pl.plot()```\n",
        "```pl.axvline()```\n",
        "```pl.xlabel```\n",
        "\n",
        "or you can create a figure with the first command starting from the pandas dataframe as\n",
        "```ax = pparks[\"ACREAGE\"].hist()```\n",
        "\n",
        "and then use methods specific of the axis object ```ax```: ```ax.plot()``` ```ax.axvline()``` ```ax.set_xlabel```\n",
        "\n",
        "most of the commands are the same or have small differences (e.g. ```ax.set_xlabel``` instead of ```pl.xlabel```)"
      ],
      "metadata": {
        "id": "Ky_fv5EiGE01"
      }
    },
    {
      "cell_type": "code",
      "source": [
        "# visualize a histogram of the park size. \n",
        "# you can use the method of the ACREAGE column .hist()\n",
        "# choose an appropriate number of bins with the argument bins=\n",
        "# overplot on the histogram the mean and the median of the distribution\n",
        "\n",
        "\n",
        "\n",
        "#to get the legend to render pass to axvline the argument label=\"...\" with ... being whatever you want displayed\n"
      ],
      "metadata": {
        "colab": {
          "base_uri": "https://localhost:8080/",
          "height": 330
        },
        "id": "dVanccoKFkIe",
        "outputId": "e958a893-5e26-41d3-bfe3-cf5562f506ca"
      },
      "execution_count": null,
      "outputs": [
        {
          "output_type": "stream",
          "name": "stderr",
          "text": [
            "/usr/local/lib/python3.7/dist-packages/ipykernel_launcher.py:11: UserWarning: You have mixed positional and keyword arguments, some input may be discarded.\n",
            "  # This is added back by InteractiveShellApp.init_path()\n"
          ]
        },
        {
          "output_type": "display_data",
          "data": {
            "text/plain": [
              "<Figure size 432x288 with 1 Axes>"
            ],
            "image/png": "[encoded data removed]"
          },
          "metadata": {
            "needs_background": "light"
          }
        }
      ]
    },
    {
      "cell_type": "markdown",
      "source": [
        "3. Describe what the graph mean\n",
        "\n"
      ],
      "metadata": {
        "id": "y50ST3broab4"
      }
    },
    {
      "cell_type": "markdown",
      "metadata": {
        "id": "VlJDAh6s1ESG"
      },
      "source": [
        "## 4. what is the spread of park sizes?\n",
        "calculate the standard deviation of the park sized\n",
        "\n",
        "Remember to manage the decimal places"
      ]
    },
    {
      "cell_type": "code",
      "source": [
        "#Calculating the standard deviation of the park sizes\n",
        "stdps = ...\n",
        "print(\"The standard deviation of the park sizes is\", stdps)"
      ],
      "metadata": {
        "colab": {
          "base_uri": "https://localhost:8080/"
        },
        "id": "GbXj8VrKqlR6",
        "outputId": "d2fae7d0-0549-4e89-bec5-7b27a119a829"
      },
      "execution_count": null,
      "outputs": [
        {
          "output_type": "stream",
          "name": "stdout",
          "text": [
            "The standard deviation of the park sizes is 110.30224917686694\n"
          ]
        }
      ]
    },
    {
      "cell_type": "markdown",
      "metadata": {
        "id": "3av2lwsDx3vu"
      },
      "source": [
        "### 5. select only a subset of the parks: the pasks smaller than 10 acres\n",
        "(you can do it similarly to the way we removed \"Unknown\" from the criminal arrests data in class: set a condition and use it to index the dataframe)\n",
        "\n",
        "calculate the mean and median and plot a histogram of the park sized with the mean and median indicated on the plot"
      ]
    },
    {
      "cell_type": "code",
      "source": [
        "# if you need help with this step do ask me about boolean arrays used as indices\n",
        "# and slicing of arrays and series! remember we have a slack channel #hw3\n",
        "\n",
        "ax = pparks[~(pparks[\"ACREAGE\"]==\"Unknown\")][\"ACREAGE\"].unique()\n",
        "smallparks = pparks.loc[pparks['ACREAGE'] < 10]\n",
        "smallparks.head()"
      ],
      "metadata": {
        "colab": {
          "base_uri": "https://localhost:8080/",
          "height": 490
        },
        "id": "JWaTtoPn2e14",
        "outputId": "aeda3289-d7a4-41f1-a3f6-4e370b50d743"
      },
      "execution_count": null,
      "outputs": [
        {
          "output_type": "execute_result",
          "data": {
            "text/plain": [
              "    OBJECTID                                     PUBLIC_NAME  \\\n",
              "0          1  William H (Billy) Markward Memorial Playground   \n",
              "2          3                           Schuylkill River Park   \n",
              "15        16                        Whitby Avenue Playground   \n",
              "16        17                          29th and Passyunk Park   \n",
              "17        18                           Price Street Play Lot   \n",
              "\n",
              "               PARENT_NAME NESTED  \\\n",
              "0    Schuylkill River Park      Y   \n",
              "2    Schuylkill River Park      N   \n",
              "15        Cobbs Creek Park      Y   \n",
              "16  29th and Passyunk Park      N   \n",
              "17   Price Street Play Lot      N   \n",
              "\n",
              "                                      OFFICIAL_NAME                  LABEL  \\\n",
              "0   William H. (Billy) Markward Memorial Playground              Markward    \n",
              "2                                               NaN  Schuylkill River Park   \n",
              "15                                              NaN                 Whitby   \n",
              "16                                              NaN     29th and Passyunk    \n",
              "17                                              NaN               Price St   \n",
              "\n",
              "   ALIAS  DPP_ASSET_ID           ADDRESS_911  ZIP_CODE  ... PPR_DISTRICT  \\\n",
              "0    NaN          1903        400 S TANEY ST     19146  ...            7   \n",
              "2    NaN          2992        400 S TANEY ST     19146  ...            7   \n",
              "15                1372  1300 COBBS CREEK PKY     19143  ...            8   \n",
              "16                 432   2827 W PASSYUNK AVE     19145  ...            9   \n",
              "17                 826        185 W PRICE ST     19144  ...            4   \n",
              "\n",
              "   PPR_OPS_DISTRICT  COUNCIL_DISTRICT POLICE_DISTRICT CITY_SCALE_MAPS  \\\n",
              "0              5, 7                 2               9               Y   \n",
              "2              5, 7                 2               9               Y   \n",
              "15                8                 3              12               Y   \n",
              "16                7                 2               1               Y   \n",
              "17                4                 8              14               Y   \n",
              "\n",
              "    LOCAL_SCALE_MAPS PROGRAM_SITES COMMENTS   Shape__Area Shape__Length  \n",
              "0                  Y             Y      NaN  23295.664062    892.868012  \n",
              "2                  Y             N      NaN  27216.929688    799.048584  \n",
              "15                 Y             Y      NaN  38916.484375    949.498194  \n",
              "16                 Y             Y      NaN   3830.242188    247.032048  \n",
              "17                 Y             N      NaN   1249.839844    143.734003  \n",
              "\n",
              "[5 rows x 25 columns]"
            ],
            "text/html": [
              "\n",
              "  <div id=\"df-d02c83c6-906a-4140-81d9-fa9c6929c8fe\">\n",
              "    <div class=\"colab-df-container\">\n",
              "      <div>\n",
              "<style scoped>\n",
              "    .dataframe tbody tr th:only-of-type {\n",
              "        vertical-align: middle;\n",
              "    }\n",
              "\n",
              "    .dataframe tbody tr th {\n",
              "        vertical-align: top;\n",
              "    }\n",
              "\n",
              "    .dataframe thead th {\n",
              "        text-align: right;\n",
              "    }\n",
              "</style>\n",
              "<table border=\"1\" class=\"dataframe\">\n",
              "  <thead>\n",
              "    <tr style=\"text-align: right;\">\n",
              "      <th></th>\n",
              "      <th>OBJECTID</th>\n",
              "      <th>PUBLIC_NAME</th>\n",
              "      <th>PARENT_NAME</th>\n",
              "      <th>NESTED</th>\n",
              "      <th>OFFICIAL_NAME</th>\n",
              "      <th>LABEL</th>\n",
              "      <th>ALIAS</th>\n",
              "      <th>DPP_ASSET_ID</th>\n",
              "      <th>ADDRESS_911</th>\n",
              "      <th>ZIP_CODE</th>\n",
              "      <th>...</th>\n",
              "      <th>PPR_DISTRICT</th>\n",
              "      <th>PPR_OPS_DISTRICT</th>\n",
              "      <th>COUNCIL_DISTRICT</th>\n",
              "      <th>POLICE_DISTRICT</th>\n",
              "      <th>CITY_SCALE_MAPS</th>\n",
              "      <th>LOCAL_SCALE_MAPS</th>\n",
              "      <th>PROGRAM_SITES</th>\n",
              "      <th>COMMENTS</th>\n",
              "      <th>Shape__Area</th>\n",
              "      <th>Shape__Length</th>\n",
              "    </tr>\n",
              "  </thead>\n",
              "  <tbody>\n",
              "    <tr>\n",
              "      <th>0</th>\n",
              "      <td>1</td>\n",
              "      <td>William H (Billy) Markward Memorial Playground</td>\n",
              "      <td>Schuylkill River Park</td>\n",
              "      <td>Y</td>\n",
              "      <td>William H. (Billy) Markward Memorial Playground</td>\n",
              "      <td>Markward</td>\n",
              "      <td>NaN</td>\n",
              "      <td>1903</td>\n",
              "      <td>400 S TANEY ST</td>\n",
              "      <td>19146</td>\n",
              "      <td>...</td>\n",
              "      <td>7</td>\n",
              "      <td>5, 7</td>\n",
              "      <td>2</td>\n",
              "      <td>9</td>\n",
              "      <td>Y</td>\n",
              "      <td>Y</td>\n",
              "      <td>Y</td>\n",
              "      <td>NaN</td>\n",
              "      <td>23295.664062</td>\n",
              "      <td>892.868012</td>\n",
              "    </tr>\n",
              "    <tr>\n",
              "      <th>2</th>\n",
              "      <td>3</td>\n",
              "      <td>Schuylkill River Park</td>\n",
              "      <td>Schuylkill River Park</td>\n",
              "      <td>N</td>\n",
              "      <td>NaN</td>\n",
              "      <td>Schuylkill River Park</td>\n",
              "      <td>NaN</td>\n",
              "      <td>2992</td>\n",
              "      <td>400 S TANEY ST</td>\n",
              "      <td>19146</td>\n",
              "      <td>...</td>\n",
              "      <td>7</td>\n",
              "      <td>5, 7</td>\n",
              "      <td>2</td>\n",
              "      <td>9</td>\n",
              "      <td>Y</td>\n",
              "      <td>Y</td>\n",
              "      <td>N</td>\n",
              "      <td>NaN</td>\n",
              "      <td>27216.929688</td>\n",
              "      <td>799.048584</td>\n",
              "    </tr>\n",
              "    <tr>\n",
              "      <th>15</th>\n",
              "      <td>16</td>\n",
              "      <td>Whitby Avenue Playground</td>\n",
              "      <td>Cobbs Creek Park</td>\n",
              "      <td>Y</td>\n",
              "      <td>NaN</td>\n",
              "      <td>Whitby</td>\n",
              "      <td></td>\n",
              "      <td>1372</td>\n",
              "      <td>1300 COBBS CREEK PKY</td>\n",
              "      <td>19143</td>\n",
              "      <td>...</td>\n",
              "      <td>8</td>\n",
              "      <td>8</td>\n",
              "      <td>3</td>\n",
              "      <td>12</td>\n",
              "      <td>Y</td>\n",
              "      <td>Y</td>\n",
              "      <td>Y</td>\n",
              "      <td>NaN</td>\n",
              "      <td>38916.484375</td>\n",
              "      <td>949.498194</td>\n",
              "    </tr>\n",
              "    <tr>\n",
              "      <th>16</th>\n",
              "      <td>17</td>\n",
              "      <td>29th and Passyunk Park</td>\n",
              "      <td>29th and Passyunk Park</td>\n",
              "      <td>N</td>\n",
              "      <td>NaN</td>\n",
              "      <td>29th and Passyunk</td>\n",
              "      <td></td>\n",
              "      <td>432</td>\n",
              "      <td>2827 W PASSYUNK AVE</td>\n",
              "      <td>19145</td>\n",
              "      <td>...</td>\n",
              "      <td>9</td>\n",
              "      <td>7</td>\n",
              "      <td>2</td>\n",
              "      <td>1</td>\n",
              "      <td>Y</td>\n",
              "      <td>Y</td>\n",
              "      <td>Y</td>\n",
              "      <td>NaN</td>\n",
              "      <td>3830.242188</td>\n",
              "      <td>247.032048</td>\n",
              "    </tr>\n",
              "    <tr>\n",
              "      <th>17</th>\n",
              "      <td>18</td>\n",
              "      <td>Price Street Play Lot</td>\n",
              "      <td>Price Street Play Lot</td>\n",
              "      <td>N</td>\n",
              "      <td>NaN</td>\n",
              "      <td>Price St</td>\n",
              "      <td></td>\n",
              "      <td>826</td>\n",
              "      <td>185 W PRICE ST</td>\n",
              "      <td>19144</td>\n",
              "      <td>...</td>\n",
              "      <td>4</td>\n",
              "      <td>4</td>\n",
              "      <td>8</td>\n",
              "      <td>14</td>\n",
              "      <td>Y</td>\n",
              "      <td>Y</td>\n",
              "      <td>N</td>\n",
              "      <td>NaN</td>\n",
              "      <td>1249.839844</td>\n",
              "      <td>143.734003</td>\n",
              "    </tr>\n",
              "  </tbody>\n",
              "</table>\n",
              "<p>5 rows × 25 columns</p>\n",
              "</div>\n",
              "      <button class=\"colab-df-convert\" onclick=\"convertToInteractive('df-d02c83c6-906a-4140-81d9-fa9c6929c8fe')\"\n",
              "              title=\"Convert this dataframe to an interactive table.\"\n",
              "              style=\"display:none;\">\n",
              "        \n",
              "  <svg xmlns=\"http://www.w3.org/2000/svg\" height=\"24px\"viewBox=\"0 0 24 24\"\n",
              "       width=\"24px\">\n",
              "    <path d=\"M0 0h24v24H0V0z\" fill=\"none\"/>\n",
              "    <path d=\"M18.56 5.44l.94 2.06.94-2.06 2.06-.94-2.06-.94-.94-2.06-.94 2.06-2.06.94zm-11 1L8.5 8.5l.94-2.06 2.06-.94-2.06-.94L8.5 2.5l-.94 2.06-2.06.94zm10 10l.94 2.06.94-2.06 2.06-.94-2.06-.94-.94-2.06-.94 2.06-2.06.94z\"/><path d=\"M17.41 7.96l-1.37-1.37c-.4-.4-.92-.59-1.43-.59-.52 0-1.04.2-1.43.59L10.3 9.45l-7.72 7.72c-.78.78-.78 2.05 0 2.83L4 21.41c.39.39.9.59 1.41.59.51 0 1.02-.2 1.41-.59l7.78-7.78 2.81-2.81c.8-.78.8-2.07 0-2.86zM5.41 20L4 18.59l7.72-7.72 1.47 1.35L5.41 20z\"/>\n",
              "  </svg>\n",
              "      </button>\n",
              "      \n",
              "  <style>\n",
              "    .colab-df-container {\n",
              "      display:flex;\n",
              "      flex-wrap:wrap;\n",
              "      gap: 12px;\n",
              "    }\n",
              "\n",
              "    .colab-df-convert {\n",
              "      background-color: #E8F0FE;\n",
              "      border: none;\n",
              "      border-radius: 50%;\n",
              "      cursor: pointer;\n",
              "      display: none;\n",
              "      fill: #1967D2;\n",
              "      height: 32px;\n",
              "      padding: 0 0 0 0;\n",
              "      width: 32px;\n",
              "    }\n",
              "\n",
              "    .colab-df-convert:hover {\n",
              "      background-color: #E2EBFA;\n",
              "      box-shadow: 0px 1px 2px rgba(60, 64, 67, 0.3), 0px 1px 3px 1px rgba(60, 64, 67, 0.15);\n",
              "      fill: #174EA6;\n",
              "    }\n",
              "\n",
              "    [theme=dark] .colab-df-convert {\n",
              "      background-color: #3B4455;\n",
              "      fill: #D2E3FC;\n",
              "    }\n",
              "\n",
              "    [theme=dark] .colab-df-convert:hover {\n",
              "      background-color: #434B5C;\n",
              "      box-shadow: 0px 1px 3px 1px rgba(0, 0, 0, 0.15);\n",
              "      filter: drop-shadow(0px 1px 2px rgba(0, 0, 0, 0.3));\n",
              "      fill: #FFFFFF;\n",
              "    }\n",
              "  </style>\n",
              "\n",
              "      <script>\n",
              "        const buttonEl =\n",
              "          document.querySelector('#df-d02c83c6-906a-4140-81d9-fa9c6929c8fe button.colab-df-convert');\n",
              "        buttonEl.style.display =\n",
              "          google.colab.kernel.accessAllowed ? 'block' : 'none';\n",
              "\n",
              "        async function convertToInteractive(key) {\n",
              "          const element = document.querySelector('#df-d02c83c6-906a-4140-81d9-fa9c6929c8fe');\n",
              "          const dataTable =\n",
              "            await google.colab.kernel.invokeFunction('convertToInteractive',\n",
              "                                                     [key], {});\n",
              "          if (!dataTable) return;\n",
              "\n",
              "          const docLinkHtml = 'Like what you see? Visit the ' +\n",
              "            '<a target=\"_blank\" href=https://colab.research.google.com/notebooks/data_table.ipynb>data table notebook</a>'\n",
              "            + ' to learn more about interactive tables.';\n",
              "          element.innerHTML = '';\n",
              "          dataTable['output_type'] = 'display_data';\n",
              "          await google.colab.output.renderOutput(dataTable, element);\n",
              "          const docLink = document.createElement('div');\n",
              "          docLink.innerHTML = docLinkHtml;\n",
              "          element.appendChild(docLink);\n",
              "        }\n",
              "      </script>\n",
              "    </div>\n",
              "  </div>\n",
              "  "
            ]
          },
          "metadata": {},
          "execution_count": 12
        }
      ]
    },
    {
      "cell_type": "code",
      "source": [
        "#calculate the mean and median of the parks with size less than 10 acres\n",
        "..."
      ],
      "metadata": {
        "colab": {
          "base_uri": "https://localhost:8080/"
        },
        "id": "yYFJA4Ny2Bir",
        "outputId": "3adb3b4f-3b1f-4a20-f1ff-ef2fbec3c8f9"
      },
      "execution_count": null,
      "outputs": [
        {
          "output_type": "stream",
          "name": "stdout",
          "text": [
            "The Mean is: 2.8719647092665035\n",
            "The Median is: 2.05696837\n"
          ]
        }
      ]
    },
    {
      "cell_type": "code",
      "source": [
        "#Plot a histogram of the parks with size less than 10 acres with the mean and median indicated on the plot\n",
        "\n",
        "...."
      ],
      "metadata": {
        "colab": {
          "base_uri": "https://localhost:8080/",
          "height": 364
        },
        "id": "m29Bf6C-0EXa",
        "outputId": "4369c765-cc0f-42d6-96c9-4cee6e21e890"
      },
      "execution_count": null,
      "outputs": [
        {
          "output_type": "stream",
          "name": "stderr",
          "text": [
            "/usr/local/lib/python3.7/dist-packages/ipykernel_launcher.py:6: UserWarning: You have mixed positional and keyword arguments, some input may be discarded.\n",
            "  \n",
            "/usr/local/lib/python3.7/dist-packages/ipykernel_launcher.py:7: UserWarning: You have mixed positional and keyword arguments, some input may be discarded.\n",
            "  import sys\n"
          ]
        },
        {
          "output_type": "display_data",
          "data": {
            "text/plain": [
              "<Figure size 432x288 with 1 Axes>"
            ],
            "image/png": "[encoded data removed]"
          },
          "metadata": {
            "needs_background": "light"
          }
        }
      ]
    },
    {
      "cell_type": "markdown",
      "metadata": {
        "id": "34a6oAaM1DJG"
      },
      "source": [
        "\n",
        "6. Imagine that the reader has no access to my instructions, or to the code. What does this figure show? what should the reader note about the figure?\n"
      ]
    },
    {
      "cell_type": "markdown",
      "metadata": {
        "id": "vPDVrnGb3xwF"
      },
      "source": [
        "\n",
        "The parks listed in each row are in some cases subsets of larger parks. The \"parent\" park is listed under PARENT_NAME. \n",
        "\n",
        "The challenge is to visualize the distribution of sizes of the  parent parks. To do that you have to aggregate the parks based on the \"PARENT_NAME\" value and sum the size of the parks. The methods of the dataframe you want to use are \n",
        "```.groupby()```\n",
        "and \n",
        "```.sum()```"
      ]
    },
    {
      "cell_type": "code",
      "source": [
        "# Grouping the Parks based on the parent name\n",
        "group_park = pparks.groupby(['PARENT_NAME']).sum()\n",
        "group_park"
      ],
      "metadata": {
        "colab": {
          "base_uri": "https://localhost:8080/",
          "height": 455
        },
        "id": "0MYyUURQ5rxw",
        "outputId": "a507e1a3-07bc-4360-e918-0ace2cc08f0d"
      },
      "execution_count": null,
      "outputs": [
        {
          "output_type": "execute_result",
          "data": {
            "text/plain": [
              "                                   OBJECTID  DPP_ASSET_ID  ZIP_CODE  \\\n",
              "PARENT_NAME                                                           \n",
              "10th and Lemon Playground                37          2914     19123   \n",
              "11th and Cecil B Moore Playground       179          1135     19122   \n",
              "12th and Cambria Playground             257          1800     19133   \n",
              "18th and Jackson War Memorial           381          1215     19145   \n",
              "20th and Tioga Field                    288           573     19140   \n",
              "...                                     ...           ...       ...   \n",
              "Womrath Park                            259           120     19124   \n",
              "Wooden Bridge Run                        72          1632     19114   \n",
              "Woodside Park                           246          1840     19131   \n",
              "Woodward Pines                          299          2823     19118   \n",
              "Yorktown Commons                       2841         20997    114732   \n",
              "\n",
              "                                     ACREAGE  PPR_DISTRICT    Shape__Area  \\\n",
              "PARENT_NAME                                                                 \n",
              "10th and Lemon Playground           0.218885            10    1509.675781   \n",
              "11th and Cecil B Moore Playground   5.181666            10   35754.375000   \n",
              "12th and Cambria Playground         2.337374             6   16136.882812   \n",
              "18th and Jackson War Memorial       0.083383             9     574.429688   \n",
              "20th and Tioga Field                1.195232             6    8254.367188   \n",
              "...                                      ...           ...            ...   \n",
              "Womrath Park                        2.167680             3   14970.460938   \n",
              "Wooden Bridge Run                  49.095667             1  339623.484375   \n",
              "Woodside Park                       2.619728             7   18088.925781   \n",
              "Woodward Pines                      1.354531             4    9370.800781   \n",
              "Yorktown Commons                    0.776328            60    5356.140625   \n",
              "\n",
              "                                   Shape__Length  \n",
              "PARENT_NAME                                       \n",
              "10th and Lemon Playground             169.494221  \n",
              "11th and Cecil B Moore Playground     755.891229  \n",
              "12th and Cambria Playground           542.995987  \n",
              "18th and Jackson War Memorial         148.363162  \n",
              "20th and Tioga Field                  365.439378  \n",
              "...                                          ...  \n",
              "Womrath Park                          591.724807  \n",
              "Wooden Bridge Run                    4653.000056  \n",
              "Woodside Park                         615.286813  \n",
              "Woodward Pines                        755.404286  \n",
              "Yorktown Commons                      880.120482  \n",
              "\n",
              "[395 rows x 7 columns]"
            ],
            "text/html": [
              "\n",
              "  <div id=\"df-cb6c3fe1-c557-444b-a900-7592e2b6ca1e\">\n",
              "    <div class=\"colab-df-container\">\n",
              "      <div>\n",
              "<style scoped>\n",
              "    .dataframe tbody tr th:only-of-type {\n",
              "        vertical-align: middle;\n",
              "    }\n",
              "\n",
              "    .dataframe tbody tr th {\n",
              "        vertical-align: top;\n",
              "    }\n",
              "\n",
              "    .dataframe thead th {\n",
              "        text-align: right;\n",
              "    }\n",
              "</style>\n",
              "<table border=\"1\" class=\"dataframe\">\n",
              "  <thead>\n",
              "    <tr style=\"text-align: right;\">\n",
              "      <th></th>\n",
              "      <th>OBJECTID</th>\n",
              "      <th>DPP_ASSET_ID</th>\n",
              "      <th>ZIP_CODE</th>\n",
              "      <th>ACREAGE</th>\n",
              "      <th>PPR_DISTRICT</th>\n",
              "      <th>Shape__Area</th>\n",
              "      <th>Shape__Length</th>\n",
              "    </tr>\n",
              "    <tr>\n",
              "      <th>PARENT_NAME</th>\n",
              "      <th></th>\n",
              "      <th></th>\n",
              "      <th></th>\n",
              "      <th></th>\n",
              "      <th></th>\n",
              "      <th></th>\n",
              "      <th></th>\n",
              "    </tr>\n",
              "  </thead>\n",
              "  <tbody>\n",
              "    <tr>\n",
              "      <th>10th and Lemon Playground</th>\n",
              "      <td>37</td>\n",
              "      <td>2914</td>\n",
              "      <td>19123</td>\n",
              "      <td>0.218885</td>\n",
              "      <td>10</td>\n",
              "      <td>1509.675781</td>\n",
              "      <td>169.494221</td>\n",
              "    </tr>\n",
              "    <tr>\n",
              "      <th>11th and Cecil B Moore Playground</th>\n",
              "      <td>179</td>\n",
              "      <td>1135</td>\n",
              "      <td>19122</td>\n",
              "      <td>5.181666</td>\n",
              "      <td>10</td>\n",
              "      <td>35754.375000</td>\n",
              "      <td>755.891229</td>\n",
              "    </tr>\n",
              "    <tr>\n",
              "      <th>12th and Cambria Playground</th>\n",
              "      <td>257</td>\n",
              "      <td>1800</td>\n",
              "      <td>19133</td>\n",
              "      <td>2.337374</td>\n",
              "      <td>6</td>\n",
              "      <td>16136.882812</td>\n",
              "      <td>542.995987</td>\n",
              "    </tr>\n",
              "    <tr>\n",
              "      <th>18th and Jackson War Memorial</th>\n",
              "      <td>381</td>\n",
              "      <td>1215</td>\n",
              "      <td>19145</td>\n",
              "      <td>0.083383</td>\n",
              "      <td>9</td>\n",
              "      <td>574.429688</td>\n",
              "      <td>148.363162</td>\n",
              "    </tr>\n",
              "    <tr>\n",
              "      <th>20th and Tioga Field</th>\n",
              "      <td>288</td>\n",
              "      <td>573</td>\n",
              "      <td>19140</td>\n",
              "      <td>1.195232</td>\n",
              "      <td>6</td>\n",
              "      <td>8254.367188</td>\n",
              "      <td>365.439378</td>\n",
              "    </tr>\n",
              "    <tr>\n",
              "      <th>...</th>\n",
              "      <td>...</td>\n",
              "      <td>...</td>\n",
              "      <td>...</td>\n",
              "      <td>...</td>\n",
              "      <td>...</td>\n",
              "      <td>...</td>\n",
              "      <td>...</td>\n",
              "    </tr>\n",
              "    <tr>\n",
              "      <th>Womrath Park</th>\n",
              "      <td>259</td>\n",
              "      <td>120</td>\n",
              "      <td>19124</td>\n",
              "      <td>2.167680</td>\n",
              "      <td>3</td>\n",
              "      <td>14970.460938</td>\n",
              "      <td>591.724807</td>\n",
              "    </tr>\n",
              "    <tr>\n",
              "      <th>Wooden Bridge Run</th>\n",
              "      <td>72</td>\n",
              "      <td>1632</td>\n",
              "      <td>19114</td>\n",
              "      <td>49.095667</td>\n",
              "      <td>1</td>\n",
              "      <td>339623.484375</td>\n",
              "      <td>4653.000056</td>\n",
              "    </tr>\n",
              "    <tr>\n",
              "      <th>Woodside Park</th>\n",
              "      <td>246</td>\n",
              "      <td>1840</td>\n",
              "      <td>19131</td>\n",
              "      <td>2.619728</td>\n",
              "      <td>7</td>\n",
              "      <td>18088.925781</td>\n",
              "      <td>615.286813</td>\n",
              "    </tr>\n",
              "    <tr>\n",
              "      <th>Woodward Pines</th>\n",
              "      <td>299</td>\n",
              "      <td>2823</td>\n",
              "      <td>19118</td>\n",
              "      <td>1.354531</td>\n",
              "      <td>4</td>\n",
              "      <td>9370.800781</td>\n",
              "      <td>755.404286</td>\n",
              "    </tr>\n",
              "    <tr>\n",
              "      <th>Yorktown Commons</th>\n",
              "      <td>2841</td>\n",
              "      <td>20997</td>\n",
              "      <td>114732</td>\n",
              "      <td>0.776328</td>\n",
              "      <td>60</td>\n",
              "      <td>5356.140625</td>\n",
              "      <td>880.120482</td>\n",
              "    </tr>\n",
              "  </tbody>\n",
              "</table>\n",
              "<p>395 rows × 7 columns</p>\n",
              "</div>\n",
              "      <button class=\"colab-df-convert\" onclick=\"convertToInteractive('df-cb6c3fe1-c557-444b-a900-7592e2b6ca1e')\"\n",
              "              title=\"Convert this dataframe to an interactive table.\"\n",
              "              style=\"display:none;\">\n",
              "        \n",
              "  <svg xmlns=\"http://www.w3.org/2000/svg\" height=\"24px\"viewBox=\"0 0 24 24\"\n",
              "       width=\"24px\">\n",
              "    <path d=\"M0 0h24v24H0V0z\" fill=\"none\"/>\n",
              "    <path d=\"M18.56 5.44l.94 2.06.94-2.06 2.06-.94-2.06-.94-.94-2.06-.94 2.06-2.06.94zm-11 1L8.5 8.5l.94-2.06 2.06-.94-2.06-.94L8.5 2.5l-.94 2.06-2.06.94zm10 10l.94 2.06.94-2.06 2.06-.94-2.06-.94-.94-2.06-.94 2.06-2.06.94z\"/><path d=\"M17.41 7.96l-1.37-1.37c-.4-.4-.92-.59-1.43-.59-.52 0-1.04.2-1.43.59L10.3 9.45l-7.72 7.72c-.78.78-.78 2.05 0 2.83L4 21.41c.39.39.9.59 1.41.59.51 0 1.02-.2 1.41-.59l7.78-7.78 2.81-2.81c.8-.78.8-2.07 0-2.86zM5.41 20L4 18.59l7.72-7.72 1.47 1.35L5.41 20z\"/>\n",
              "  </svg>\n",
              "      </button>\n",
              "      \n",
              "  <style>\n",
              "    .colab-df-container {\n",
              "      display:flex;\n",
              "      flex-wrap:wrap;\n",
              "      gap: 12px;\n",
              "    }\n",
              "\n",
              "    .colab-df-convert {\n",
              "      background-color: #E8F0FE;\n",
              "      border: none;\n",
              "      border-radius: 50%;\n",
              "      cursor: pointer;\n",
              "      display: none;\n",
              "      fill: #1967D2;\n",
              "      height: 32px;\n",
              "      padding: 0 0 0 0;\n",
              "      width: 32px;\n",
              "    }\n",
              "\n",
              "    .colab-df-convert:hover {\n",
              "      background-color: #E2EBFA;\n",
              "      box-shadow: 0px 1px 2px rgba(60, 64, 67, 0.3), 0px 1px 3px 1px rgba(60, 64, 67, 0.15);\n",
              "      fill: #174EA6;\n",
              "    }\n",
              "\n",
              "    [theme=dark] .colab-df-convert {\n",
              "      background-color: #3B4455;\n",
              "      fill: #D2E3FC;\n",
              "    }\n",
              "\n",
              "    [theme=dark] .colab-df-convert:hover {\n",
              "      background-color: #434B5C;\n",
              "      box-shadow: 0px 1px 3px 1px rgba(0, 0, 0, 0.15);\n",
              "      filter: drop-shadow(0px 1px 2px rgba(0, 0, 0, 0.3));\n",
              "      fill: #FFFFFF;\n",
              "    }\n",
              "  </style>\n",
              "\n",
              "      <script>\n",
              "        const buttonEl =\n",
              "          document.querySelector('#df-cb6c3fe1-c557-444b-a900-7592e2b6ca1e button.colab-df-convert');\n",
              "        buttonEl.style.display =\n",
              "          google.colab.kernel.accessAllowed ? 'block' : 'none';\n",
              "\n",
              "        async function convertToInteractive(key) {\n",
              "          const element = document.querySelector('#df-cb6c3fe1-c557-444b-a900-7592e2b6ca1e');\n",
              "          const dataTable =\n",
              "            await google.colab.kernel.invokeFunction('convertToInteractive',\n",
              "                                                     [key], {});\n",
              "          if (!dataTable) return;\n",
              "\n",
              "          const docLinkHtml = 'Like what you see? Visit the ' +\n",
              "            '<a target=\"_blank\" href=https://colab.research.google.com/notebooks/data_table.ipynb>data table notebook</a>'\n",
              "            + ' to learn more about interactive tables.';\n",
              "          element.innerHTML = '';\n",
              "          dataTable['output_type'] = 'display_data';\n",
              "          await google.colab.output.renderOutput(dataTable, element);\n",
              "          const docLink = document.createElement('div');\n",
              "          docLink.innerHTML = docLinkHtml;\n",
              "          element.appendChild(docLink);\n",
              "        }\n",
              "      </script>\n",
              "    </div>\n",
              "  </div>\n",
              "  "
            ]
          },
          "metadata": {},
          "execution_count": 15
        }
      ]
    },
    {
      "cell_type": "markdown",
      "source": [
        "7 Using **sns.pairplot** plot the pairplot of ACREAGE\tand Shape__Area variables. What is the relationship that you can see?"
      ],
      "metadata": {
        "id": "MpCZ-uRZor2Y"
      }
    },
    {
      "cell_type": "code",
      "source": [
        "# Plotting pairplot \n",
        "\n",
        "pair = ...\n",
        "pair"
      ],
      "metadata": {
        "id": "sLqZq7KJpAz2"
      },
      "execution_count": null,
      "outputs": []
    },
    {
      "cell_type": "code",
      "source": [
        "sns.pairplot(group_park[pair], size=2.0)"
      ],
      "metadata": {
        "id": "ZiL-x37apdCK"
      },
      "execution_count": null,
      "outputs": []
    },
    {
      "cell_type": "code",
      "source": [
        "#Visualize the distribution of the parks grouped by parent name \n",
        "# Calculate mean and median\n",
        "groupmean = group_park['ACREAGE'].mean()\n",
        "groupmedian = group_park['ACREAGE'].median()\n",
        "print('The Mean of the grouped Parks is:', groupmean)\n",
        "print('The Median of the grouped Parks is:', groupmedian)"
      ],
      "metadata": {
        "colab": {
          "base_uri": "https://localhost:8080/"
        },
        "id": "wLMl4Y2h6iIY",
        "outputId": "303a4a28-f098-40a4-a9a0-ac1e186bbad9"
      },
      "execution_count": null,
      "outputs": [
        {
          "output_type": "stream",
          "name": "stdout",
          "text": [
            "The Mean of the grouped Parks is: 25.67880791134177\n",
            "The Median of the grouped Parks is: 2.90762604\n"
          ]
        }
      ]
    },
    {
      "cell_type": "markdown",
      "source": [
        "8. Visualize the distribution of the parks grouped by parent name"
      ],
      "metadata": {
        "id": "OQLjLl73nT6X"
      }
    },
    {
      "cell_type": "code",
      "metadata": {
        "id": "ukYunCxr-TwY",
        "colab": {
          "base_uri": "https://localhost:8080/",
          "height": 330
        },
        "outputId": "2546dd8f-3b0c-4c8d-978f-cbfdc6690de9"
      },
      "source": [
        "#Visualize the distribution of the parks grouped by parent name\n",
        "\n",
        "ax =...\n",
        "\n",
        "ax.axvline(groupmean, color='red', linestyle='solid', linewidth=1.5, alpha = .8)\n",
        "ax.axvline(groupmedian, color='green', linestyle='solid', linewidth=1.5, alpha = .8)\n",
        "ax.legend([groupmean, groupmedian], labels = ['mean', 'median'])\n",
        "ax.set_xlabel('Park size in acres')\n",
        "ax.set_ylabel('Number of parks')\n",
        "\n",
        "pylab.title(...);"
      ],
      "execution_count": null,
      "outputs": [
        {
          "output_type": "stream",
          "name": "stderr",
          "text": [
            "/usr/local/lib/python3.7/dist-packages/ipykernel_launcher.py:4: UserWarning: You have mixed positional and keyword arguments, some input may be discarded.\n",
            "  after removing the cwd from sys.path.\n"
          ]
        },
        {
          "output_type": "display_data",
          "data": {
            "text/plain": [
              "<Figure size 432x288 with 1 Axes>"
            ],
            "image/png": "[encoded data removed]"
          },
          "metadata": {
            "needs_background": "light"
          }
        }
      ]
    },
    {
      "cell_type": "markdown",
      "metadata": {
        "id": "BGEayx7x5xdl"
      },
      "source": [
        "9. Explain what the graph means"
      ]
    },
    {
      "cell_type": "markdown",
      "metadata": {
        "id": "OdMYUhIK7NY9"
      },
      "source": [
        "10. What could you measure about this new dataset obtained by grouping the data by PARENT_NAME that would allow you to investigate further the difference in the two dataset? "
      ]
    },
    {
      "cell_type": "code",
      "source": [
        "# Measuring the standard deviation of the group parks\n",
        "\n",
        "....\n",
        "\n",
        "print (\"The standard deviation of the grouped data set is\", group_std)"
      ],
      "metadata": {
        "colab": {
          "base_uri": "https://localhost:8080/"
        },
        "id": "lL_WTDmqAyvM",
        "outputId": "6309e17a-54d5-478c-bbf9-417c7269045a"
      },
      "execution_count": null,
      "outputs": [
        {
          "output_type": "stream",
          "name": "stdout",
          "text": [
            "The standard deviation of the grouped data set is 150.134389862319\n"
          ]
        }
      ]
    },
    {
      "cell_type": "markdown",
      "metadata": {
        "id": "nqlc8jq5zHR3"
      },
      "source": [
        "This standard deviation of the grouped dataset is way too large compared to the the original dataset. This potentially mean that there is more deviation or spread of the data when the parks are grouped by parent name."
      ]
    },
    {
      "cell_type": "markdown",
      "source": [
        "**END OF HOMEWORK**\n",
        "\n",
        "\n",
        "\n"
      ],
      "metadata": {
        "id": "QJ14L8wMn3Ev"
      }
    }
  ]
}