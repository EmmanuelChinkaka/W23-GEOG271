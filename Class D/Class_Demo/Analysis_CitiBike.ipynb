{
  "nbformat": 4,
  "nbformat_minor": 0,
  "metadata": {
    "kernelspec": {
      "display_name": "Py3 + geopandas",
      "language": "python",
      "name": "gpd"
    },
    "language_info": {
      "codemirror_mode": {
        "name": "ipython",
        "version": 3
      },
      "file_extension": ".py",
      "mimetype": "text/x-python",
      "name": "python",
      "nbconvert_exporter": "python",
      "pygments_lexer": "ipython3",
      "version": "3.6.6"
    },
    "colab": {
      "provenance": [],
      "collapsed_sections": [
        "3MEgOPvYPWuI",
        "sFjx_F0aPWuO",
        "E_bn9OiAPWuQ",
        "EZ-k21oTPWuW",
        "wG8muz_PPWuZ",
        "fl0lhjMSPWuh",
        "C2NVyWp9PWum",
        "TomeZAHpPWuq",
        "Fr-jed7SPWuv",
        "GO7vemccPWux",
        "qeh3Kfb8PWu3",
        "bNYvCHSaPWu5",
        "Gt5N_D62PWu_",
        "izlbvylgPWvS",
        "Ky_3-LVdPWvT"
      ],
      "include_colab_link": true
    }
  },
  "cells": [
    {
      "cell_type": "markdown",
      "metadata": {
        "id": "view-in-github",
        "colab_type": "text"
      },
      "source": [
        "<a href=\"https://colab.research.google.com/github/EmmanuelChinkaka/W23-GEOG271/blob/main/Class%20D/Class_Demo/Analysis_CitiBike.ipynb\" target=\"_parent\"><img src=\"https://colab.research.google.com/assets/colab-badge.svg\" alt=\"Open In Colab\"/></a>"
      ]
    },
    {
      "cell_type": "markdown",
      "metadata": {
        "id": "Z17AM922PWs1"
      },
      "source": [
        "# reproducible Spatial Data Analysis with pandas\n",
        "Exploratory spatial data analysis of CitiBike data using pysal and geopandas\n",
        "\n",
        "N.B. This workbook is based on one by SRK325. Choropleths and spatial join sections added by CMP670."
      ]
    },
    {
      "cell_type": "markdown",
      "metadata": {
        "id": "aNEYzn2KPWs9"
      },
      "source": [
        "## Import initial libraries"
      ]
    },
    {
      "cell_type": "code",
      "metadata": {
        "id": "nQuFf4RISc_7",
        "colab": {
          "base_uri": "https://localhost:8080/"
        },
        "outputId": "8acd2064-f948-487e-cf1d-392942e682ec"
      },
      "source": [
        "!pip install geopandas\n",
        "!apt install python3-rtree\n"
      ],
      "execution_count": 1,
      "outputs": [
        {
          "output_type": "stream",
          "name": "stdout",
          "text": [
            "Requirement already satisfied: geopandas in /usr/local/lib/python3.10/dist-packages (0.13.2)\n",
            "Requirement already satisfied: fiona>=1.8.19 in /usr/local/lib/python3.10/dist-packages (from geopandas) (1.9.5)\n",
            "Requirement already satisfied: packaging in /usr/local/lib/python3.10/dist-packages (from geopandas) (23.2)\n",
            "Requirement already satisfied: pandas>=1.1.0 in /usr/local/lib/python3.10/dist-packages (from geopandas) (1.5.3)\n",
            "Requirement already satisfied: pyproj>=3.0.1 in /usr/local/lib/python3.10/dist-packages (from geopandas) (3.6.1)\n",
            "Requirement already satisfied: shapely>=1.7.1 in /usr/local/lib/python3.10/dist-packages (from geopandas) (2.0.2)\n",
            "Requirement already satisfied: attrs>=19.2.0 in /usr/local/lib/python3.10/dist-packages (from fiona>=1.8.19->geopandas) (23.1.0)\n",
            "Requirement already satisfied: certifi in /usr/local/lib/python3.10/dist-packages (from fiona>=1.8.19->geopandas) (2023.11.17)\n",
            "Requirement already satisfied: click~=8.0 in /usr/local/lib/python3.10/dist-packages (from fiona>=1.8.19->geopandas) (8.1.7)\n",
            "Requirement already satisfied: click-plugins>=1.0 in /usr/local/lib/python3.10/dist-packages (from fiona>=1.8.19->geopandas) (1.1.1)\n",
            "Requirement already satisfied: cligj>=0.5 in /usr/local/lib/python3.10/dist-packages (from fiona>=1.8.19->geopandas) (0.7.2)\n",
            "Requirement already satisfied: six in /usr/local/lib/python3.10/dist-packages (from fiona>=1.8.19->geopandas) (1.16.0)\n",
            "Requirement already satisfied: setuptools in /usr/local/lib/python3.10/dist-packages (from fiona>=1.8.19->geopandas) (67.7.2)\n",
            "Requirement already satisfied: python-dateutil>=2.8.1 in /usr/local/lib/python3.10/dist-packages (from pandas>=1.1.0->geopandas) (2.8.2)\n",
            "Requirement already satisfied: pytz>=2020.1 in /usr/local/lib/python3.10/dist-packages (from pandas>=1.1.0->geopandas) (2023.3.post1)\n",
            "Requirement already satisfied: numpy>=1.21.0 in /usr/local/lib/python3.10/dist-packages (from pandas>=1.1.0->geopandas) (1.23.5)\n",
            "Reading package lists... Done\n",
            "Building dependency tree... Done\n",
            "Reading state information... Done\n",
            "The following additional packages will be installed:\n",
            "  libspatialindex-c6 libspatialindex-dev libspatialindex6\n",
            "The following NEW packages will be installed:\n",
            "  libspatialindex-c6 libspatialindex-dev libspatialindex6 python3-rtree\n",
            "0 upgraded, 4 newly installed, 0 to remove and 24 not upgraded.\n",
            "Need to get 365 kB of archives.\n",
            "After this operation, 1,799 kB of additional disk space will be used.\n",
            "Get:1 http://archive.ubuntu.com/ubuntu jammy/universe amd64 libspatialindex6 amd64 1.9.3-2 [247 kB]\n",
            "Get:2 http://archive.ubuntu.com/ubuntu jammy/universe amd64 libspatialindex-c6 amd64 1.9.3-2 [55.8 kB]\n",
            "Get:3 http://archive.ubuntu.com/ubuntu jammy/universe amd64 libspatialindex-dev amd64 1.9.3-2 [16.0 kB]\n",
            "Get:4 http://archive.ubuntu.com/ubuntu jammy/universe amd64 python3-rtree all 0.9.7-1 [46.4 kB]\n",
            "Fetched 365 kB in 1s (561 kB/s)\n",
            "Selecting previously unselected package libspatialindex6:amd64.\n",
            "(Reading database ... 121658 files and directories currently installed.)\n",
            "Preparing to unpack .../libspatialindex6_1.9.3-2_amd64.deb ...\n",
            "Unpacking libspatialindex6:amd64 (1.9.3-2) ...\n",
            "Selecting previously unselected package libspatialindex-c6:amd64.\n",
            "Preparing to unpack .../libspatialindex-c6_1.9.3-2_amd64.deb ...\n",
            "Unpacking libspatialindex-c6:amd64 (1.9.3-2) ...\n",
            "Selecting previously unselected package libspatialindex-dev:amd64.\n",
            "Preparing to unpack .../libspatialindex-dev_1.9.3-2_amd64.deb ...\n",
            "Unpacking libspatialindex-dev:amd64 (1.9.3-2) ...\n",
            "Selecting previously unselected package python3-rtree.\n",
            "Preparing to unpack .../python3-rtree_0.9.7-1_all.deb ...\n",
            "Unpacking python3-rtree (0.9.7-1) ...\n",
            "Setting up libspatialindex6:amd64 (1.9.3-2) ...\n",
            "Setting up libspatialindex-c6:amd64 (1.9.3-2) ...\n",
            "Setting up libspatialindex-dev:amd64 (1.9.3-2) ...\n",
            "Setting up python3-rtree (0.9.7-1) ...\n",
            "Processing triggers for libc-bin (2.35-0ubuntu3.4) ...\n",
            "/sbin/ldconfig.real: /usr/local/lib/libtbbbind.so.3 is not a symbolic link\n",
            "\n",
            "/sbin/ldconfig.real: /usr/local/lib/libtbbbind_2_5.so.3 is not a symbolic link\n",
            "\n",
            "/sbin/ldconfig.real: /usr/local/lib/libtbbmalloc.so.2 is not a symbolic link\n",
            "\n",
            "/sbin/ldconfig.real: /usr/local/lib/libtbbbind_2_0.so.3 is not a symbolic link\n",
            "\n",
            "/sbin/ldconfig.real: /usr/local/lib/libtbb.so.12 is not a symbolic link\n",
            "\n",
            "/sbin/ldconfig.real: /usr/local/lib/libtbbmalloc_proxy.so.2 is not a symbolic link\n",
            "\n"
          ]
        }
      ]
    },
    {
      "cell_type": "code",
      "metadata": {
        "id": "88G3w3vTSHsV",
        "colab": {
          "base_uri": "https://localhost:8080/"
        },
        "outputId": "2e88f2a6-487f-4d63-f79e-6d78e0d35b5b"
      },
      "source": [
        "import geopandas as gpd\n",
        "world = gpd.read_file(gpd.datasets.get_path('naturalearth_lowres'))"
      ],
      "execution_count": 2,
      "outputs": [
        {
          "output_type": "stream",
          "name": "stderr",
          "text": [
            "<ipython-input-2-fb56bf95bef3>:2: FutureWarning: The geopandas.dataset module is deprecated and will be removed in GeoPandas 1.0. You can get the original 'naturalearth_lowres' data from https://www.naturalearthdata.com/downloads/110m-cultural-vectors/.\n",
            "  world = gpd.read_file(gpd.datasets.get_path('naturalearth_lowres'))\n"
          ]
        }
      ]
    },
    {
      "cell_type": "code",
      "source": [
        "world.info()"
      ],
      "metadata": {
        "id": "NqbEF7-mBxQ7",
        "outputId": "8dd7f2ff-8d48-477e-b000-295e027db494",
        "colab": {
          "base_uri": "https://localhost:8080/"
        }
      },
      "execution_count": 3,
      "outputs": [
        {
          "output_type": "stream",
          "name": "stdout",
          "text": [
            "<class 'geopandas.geodataframe.GeoDataFrame'>\n",
            "RangeIndex: 177 entries, 0 to 176\n",
            "Data columns (total 6 columns):\n",
            " #   Column      Non-Null Count  Dtype   \n",
            "---  ------      --------------  -----   \n",
            " 0   pop_est     177 non-null    float64 \n",
            " 1   continent   177 non-null    object  \n",
            " 2   name        177 non-null    object  \n",
            " 3   iso_a3      177 non-null    object  \n",
            " 4   gdp_md_est  177 non-null    int64   \n",
            " 5   geometry    177 non-null    geometry\n",
            "dtypes: float64(1), geometry(1), int64(1), object(3)\n",
            "memory usage: 8.4+ KB\n"
          ]
        }
      ]
    },
    {
      "cell_type": "code",
      "source": [
        "world.head()"
      ],
      "metadata": {
        "id": "zUThPuH8B1Rv",
        "outputId": "8652d417-4bf0-48fa-8317-f56ef7715554",
        "colab": {
          "base_uri": "https://localhost:8080/",
          "height": 206
        }
      },
      "execution_count": 4,
      "outputs": [
        {
          "output_type": "execute_result",
          "data": {
            "text/plain": [
              "       pop_est      continent                      name iso_a3  gdp_md_est  \\\n",
              "0     889953.0        Oceania                      Fiji    FJI        5496   \n",
              "1   58005463.0         Africa                  Tanzania    TZA       63177   \n",
              "2     603253.0         Africa                 W. Sahara    ESH         907   \n",
              "3   37589262.0  North America                    Canada    CAN     1736425   \n",
              "4  328239523.0  North America  United States of America    USA    21433226   \n",
              "\n",
              "                                            geometry  \n",
              "0  MULTIPOLYGON (((180.00000 -16.06713, 180.00000...  \n",
              "1  POLYGON ((33.90371 -0.95000, 34.07262 -1.05982...  \n",
              "2  POLYGON ((-8.66559 27.65643, -8.66512 27.58948...  \n",
              "3  MULTIPOLYGON (((-122.84000 49.00000, -122.9742...  \n",
              "4  MULTIPOLYGON (((-122.84000 49.00000, -120.0000...  "
            ],
            "text/html": [
              "\n",
              "  <div id=\"df-83bbbc42-249f-4f55-ac05-bc2a7685dd81\" class=\"colab-df-container\">\n",
              "    <div>\n",
              "<style scoped>\n",
              "    .dataframe tbody tr th:only-of-type {\n",
              "        vertical-align: middle;\n",
              "    }\n",
              "\n",
              "    .dataframe tbody tr th {\n",
              "        vertical-align: top;\n",
              "    }\n",
              "\n",
              "    .dataframe thead th {\n",
              "        text-align: right;\n",
              "    }\n",
              "</style>\n",
              "<table border=\"1\" class=\"dataframe\">\n",
              "  <thead>\n",
              "    <tr style=\"text-align: right;\">\n",
              "      <th></th>\n",
              "      <th>pop_est</th>\n",
              "      <th>continent</th>\n",
              "      <th>name</th>\n",
              "      <th>iso_a3</th>\n",
              "      <th>gdp_md_est</th>\n",
              "      <th>geometry</th>\n",
              "    </tr>\n",
              "  </thead>\n",
              "  <tbody>\n",
              "    <tr>\n",
              "      <th>0</th>\n",
              "      <td>889953.0</td>\n",
              "      <td>Oceania</td>\n",
              "      <td>Fiji</td>\n",
              "      <td>FJI</td>\n",
              "      <td>5496</td>\n",
              "      <td>MULTIPOLYGON (((180.00000 -16.06713, 180.00000...</td>\n",
              "    </tr>\n",
              "    <tr>\n",
              "      <th>1</th>\n",
              "      <td>58005463.0</td>\n",
              "      <td>Africa</td>\n",
              "      <td>Tanzania</td>\n",
              "      <td>TZA</td>\n",
              "      <td>63177</td>\n",
              "      <td>POLYGON ((33.90371 -0.95000, 34.07262 -1.05982...</td>\n",
              "    </tr>\n",
              "    <tr>\n",
              "      <th>2</th>\n",
              "      <td>603253.0</td>\n",
              "      <td>Africa</td>\n",
              "      <td>W. Sahara</td>\n",
              "      <td>ESH</td>\n",
              "      <td>907</td>\n",
              "      <td>POLYGON ((-8.66559 27.65643, -8.66512 27.58948...</td>\n",
              "    </tr>\n",
              "    <tr>\n",
              "      <th>3</th>\n",
              "      <td>37589262.0</td>\n",
              "      <td>North America</td>\n",
              "      <td>Canada</td>\n",
              "      <td>CAN</td>\n",
              "      <td>1736425</td>\n",
              "      <td>MULTIPOLYGON (((-122.84000 49.00000, -122.9742...</td>\n",
              "    </tr>\n",
              "    <tr>\n",
              "      <th>4</th>\n",
              "      <td>328239523.0</td>\n",
              "      <td>North America</td>\n",
              "      <td>United States of America</td>\n",
              "      <td>USA</td>\n",
              "      <td>21433226</td>\n",
              "      <td>MULTIPOLYGON (((-122.84000 49.00000, -120.0000...</td>\n",
              "    </tr>\n",
              "  </tbody>\n",
              "</table>\n",
              "</div>\n",
              "    <div class=\"colab-df-buttons\">\n",
              "\n",
              "  <div class=\"colab-df-container\">\n",
              "    <button class=\"colab-df-convert\" onclick=\"convertToInteractive('df-83bbbc42-249f-4f55-ac05-bc2a7685dd81')\"\n",
              "            title=\"Convert this dataframe to an interactive table.\"\n",
              "            style=\"display:none;\">\n",
              "\n",
              "  <svg xmlns=\"http://www.w3.org/2000/svg\" height=\"24px\" viewBox=\"0 -960 960 960\">\n",
              "    <path d=\"M120-120v-720h720v720H120Zm60-500h600v-160H180v160Zm220 220h160v-160H400v160Zm0 220h160v-160H400v160ZM180-400h160v-160H180v160Zm440 0h160v-160H620v160ZM180-180h160v-160H180v160Zm440 0h160v-160H620v160Z\"/>\n",
              "  </svg>\n",
              "    </button>\n",
              "\n",
              "  <style>\n",
              "    .colab-df-container {\n",
              "      display:flex;\n",
              "      gap: 12px;\n",
              "    }\n",
              "\n",
              "    .colab-df-convert {\n",
              "      background-color: #E8F0FE;\n",
              "      border: none;\n",
              "      border-radius: 50%;\n",
              "      cursor: pointer;\n",
              "      display: none;\n",
              "      fill: #1967D2;\n",
              "      height: 32px;\n",
              "      padding: 0 0 0 0;\n",
              "      width: 32px;\n",
              "    }\n",
              "\n",
              "    .colab-df-convert:hover {\n",
              "      background-color: #E2EBFA;\n",
              "      box-shadow: 0px 1px 2px rgba(60, 64, 67, 0.3), 0px 1px 3px 1px rgba(60, 64, 67, 0.15);\n",
              "      fill: #174EA6;\n",
              "    }\n",
              "\n",
              "    .colab-df-buttons div {\n",
              "      margin-bottom: 4px;\n",
              "    }\n",
              "\n",
              "    [theme=dark] .colab-df-convert {\n",
              "      background-color: #3B4455;\n",
              "      fill: #D2E3FC;\n",
              "    }\n",
              "\n",
              "    [theme=dark] .colab-df-convert:hover {\n",
              "      background-color: #434B5C;\n",
              "      box-shadow: 0px 1px 3px 1px rgba(0, 0, 0, 0.15);\n",
              "      filter: drop-shadow(0px 1px 2px rgba(0, 0, 0, 0.3));\n",
              "      fill: #FFFFFF;\n",
              "    }\n",
              "  </style>\n",
              "\n",
              "    <script>\n",
              "      const buttonEl =\n",
              "        document.querySelector('#df-83bbbc42-249f-4f55-ac05-bc2a7685dd81 button.colab-df-convert');\n",
              "      buttonEl.style.display =\n",
              "        google.colab.kernel.accessAllowed ? 'block' : 'none';\n",
              "\n",
              "      async function convertToInteractive(key) {\n",
              "        const element = document.querySelector('#df-83bbbc42-249f-4f55-ac05-bc2a7685dd81');\n",
              "        const dataTable =\n",
              "          await google.colab.kernel.invokeFunction('convertToInteractive',\n",
              "                                                    [key], {});\n",
              "        if (!dataTable) return;\n",
              "\n",
              "        const docLinkHtml = 'Like what you see? Visit the ' +\n",
              "          '<a target=\"_blank\" href=https://colab.research.google.com/notebooks/data_table.ipynb>data table notebook</a>'\n",
              "          + ' to learn more about interactive tables.';\n",
              "        element.innerHTML = '';\n",
              "        dataTable['output_type'] = 'display_data';\n",
              "        await google.colab.output.renderOutput(dataTable, element);\n",
              "        const docLink = document.createElement('div');\n",
              "        docLink.innerHTML = docLinkHtml;\n",
              "        element.appendChild(docLink);\n",
              "      }\n",
              "    </script>\n",
              "  </div>\n",
              "\n",
              "\n",
              "<div id=\"df-fc3ae174-208f-48c3-850c-f29858fa9405\">\n",
              "  <button class=\"colab-df-quickchart\" onclick=\"quickchart('df-fc3ae174-208f-48c3-850c-f29858fa9405')\"\n",
              "            title=\"Suggest charts\"\n",
              "            style=\"display:none;\">\n",
              "\n",
              "<svg xmlns=\"http://www.w3.org/2000/svg\" height=\"24px\"viewBox=\"0 0 24 24\"\n",
              "     width=\"24px\">\n",
              "    <g>\n",
              "        <path d=\"M19 3H5c-1.1 0-2 .9-2 2v14c0 1.1.9 2 2 2h14c1.1 0 2-.9 2-2V5c0-1.1-.9-2-2-2zM9 17H7v-7h2v7zm4 0h-2V7h2v10zm4 0h-2v-4h2v4z\"/>\n",
              "    </g>\n",
              "</svg>\n",
              "  </button>\n",
              "\n",
              "<style>\n",
              "  .colab-df-quickchart {\n",
              "      --bg-color: #E8F0FE;\n",
              "      --fill-color: #1967D2;\n",
              "      --hover-bg-color: #E2EBFA;\n",
              "      --hover-fill-color: #174EA6;\n",
              "      --disabled-fill-color: #AAA;\n",
              "      --disabled-bg-color: #DDD;\n",
              "  }\n",
              "\n",
              "  [theme=dark] .colab-df-quickchart {\n",
              "      --bg-color: #3B4455;\n",
              "      --fill-color: #D2E3FC;\n",
              "      --hover-bg-color: #434B5C;\n",
              "      --hover-fill-color: #FFFFFF;\n",
              "      --disabled-bg-color: #3B4455;\n",
              "      --disabled-fill-color: #666;\n",
              "  }\n",
              "\n",
              "  .colab-df-quickchart {\n",
              "    background-color: var(--bg-color);\n",
              "    border: none;\n",
              "    border-radius: 50%;\n",
              "    cursor: pointer;\n",
              "    display: none;\n",
              "    fill: var(--fill-color);\n",
              "    height: 32px;\n",
              "    padding: 0;\n",
              "    width: 32px;\n",
              "  }\n",
              "\n",
              "  .colab-df-quickchart:hover {\n",
              "    background-color: var(--hover-bg-color);\n",
              "    box-shadow: 0 1px 2px rgba(60, 64, 67, 0.3), 0 1px 3px 1px rgba(60, 64, 67, 0.15);\n",
              "    fill: var(--button-hover-fill-color);\n",
              "  }\n",
              "\n",
              "  .colab-df-quickchart-complete:disabled,\n",
              "  .colab-df-quickchart-complete:disabled:hover {\n",
              "    background-color: var(--disabled-bg-color);\n",
              "    fill: var(--disabled-fill-color);\n",
              "    box-shadow: none;\n",
              "  }\n",
              "\n",
              "  .colab-df-spinner {\n",
              "    border: 2px solid var(--fill-color);\n",
              "    border-color: transparent;\n",
              "    border-bottom-color: var(--fill-color);\n",
              "    animation:\n",
              "      spin 1s steps(1) infinite;\n",
              "  }\n",
              "\n",
              "  @keyframes spin {\n",
              "    0% {\n",
              "      border-color: transparent;\n",
              "      border-bottom-color: var(--fill-color);\n",
              "      border-left-color: var(--fill-color);\n",
              "    }\n",
              "    20% {\n",
              "      border-color: transparent;\n",
              "      border-left-color: var(--fill-color);\n",
              "      border-top-color: var(--fill-color);\n",
              "    }\n",
              "    30% {\n",
              "      border-color: transparent;\n",
              "      border-left-color: var(--fill-color);\n",
              "      border-top-color: var(--fill-color);\n",
              "      border-right-color: var(--fill-color);\n",
              "    }\n",
              "    40% {\n",
              "      border-color: transparent;\n",
              "      border-right-color: var(--fill-color);\n",
              "      border-top-color: var(--fill-color);\n",
              "    }\n",
              "    60% {\n",
              "      border-color: transparent;\n",
              "      border-right-color: var(--fill-color);\n",
              "    }\n",
              "    80% {\n",
              "      border-color: transparent;\n",
              "      border-right-color: var(--fill-color);\n",
              "      border-bottom-color: var(--fill-color);\n",
              "    }\n",
              "    90% {\n",
              "      border-color: transparent;\n",
              "      border-bottom-color: var(--fill-color);\n",
              "    }\n",
              "  }\n",
              "</style>\n",
              "\n",
              "  <script>\n",
              "    async function quickchart(key) {\n",
              "      const quickchartButtonEl =\n",
              "        document.querySelector('#' + key + ' button');\n",
              "      quickchartButtonEl.disabled = true;  // To prevent multiple clicks.\n",
              "      quickchartButtonEl.classList.add('colab-df-spinner');\n",
              "      try {\n",
              "        const charts = await google.colab.kernel.invokeFunction(\n",
              "            'suggestCharts', [key], {});\n",
              "      } catch (error) {\n",
              "        console.error('Error during call to suggestCharts:', error);\n",
              "      }\n",
              "      quickchartButtonEl.classList.remove('colab-df-spinner');\n",
              "      quickchartButtonEl.classList.add('colab-df-quickchart-complete');\n",
              "    }\n",
              "    (() => {\n",
              "      let quickchartButtonEl =\n",
              "        document.querySelector('#df-fc3ae174-208f-48c3-850c-f29858fa9405 button');\n",
              "      quickchartButtonEl.style.display =\n",
              "        google.colab.kernel.accessAllowed ? 'block' : 'none';\n",
              "    })();\n",
              "  </script>\n",
              "</div>\n",
              "    </div>\n",
              "  </div>\n"
            ]
          },
          "metadata": {},
          "execution_count": 4
        }
      ]
    },
    {
      "cell_type": "code",
      "metadata": {
        "id": "Mld0yn8XSn06",
        "colab": {
          "base_uri": "https://localhost:8080/"
        },
        "outputId": "45c4dccd-2a14-4800-e121-dc513b67f127"
      },
      "source": [
        "world.crs"
      ],
      "execution_count": 5,
      "outputs": [
        {
          "output_type": "execute_result",
          "data": {
            "text/plain": [
              "<Geographic 2D CRS: EPSG:4326>\n",
              "Name: WGS 84\n",
              "Axis Info [ellipsoidal]:\n",
              "- Lat[north]: Geodetic latitude (degree)\n",
              "- Lon[east]: Geodetic longitude (degree)\n",
              "Area of Use:\n",
              "- name: World.\n",
              "- bounds: (-180.0, -90.0, 180.0, 90.0)\n",
              "Datum: World Geodetic System 1984 ensemble\n",
              "- Ellipsoid: WGS 84\n",
              "- Prime Meridian: Greenwich"
            ]
          },
          "metadata": {},
          "execution_count": 5
        }
      ]
    },
    {
      "cell_type": "markdown",
      "source": [
        "https://en.wikipedia.org/wiki/World_Geodetic_System"
      ],
      "metadata": {
        "id": "5oR5S_JUCU-w"
      }
    },
    {
      "cell_type": "code",
      "metadata": {
        "id": "Zz8SyQQNSnea",
        "colab": {
          "base_uri": "https://localhost:8080/",
          "height": 342
        },
        "outputId": "84e1ba6e-ee52-4f87-80bc-bb047653d1a5"
      },
      "source": [
        "ax = world.plot()\n",
        "ax.set_title(\"WGS84 (lat/lon)\");\n",
        "ax.set_xlabel(\"latitude (deg)\")\n",
        "ax.set_ylabel(\"longitude (deg)\");"
      ],
      "execution_count": 6,
      "outputs": [
        {
          "output_type": "display_data",
          "data": {
            "text/plain": [
              "<Figure size 640x480 with 1 Axes>"
            ],
            "image/png": "[encoded data removed]"
          },
          "metadata": {}
        }
      ]
    },
    {
      "cell_type": "markdown",
      "source": [
        "European Petroleum Survey Group (EPSG). Each entity is assigned an EPSG code between 1024-32767"
      ],
      "metadata": {
        "id": "aUfSQvY4Dm8n"
      }
    },
    {
      "cell_type": "markdown",
      "source": [
        "## EPSG:4326\n",
        "WGS 84 -- WGS84 - World Geodetic System 1984, used in GPS\n",
        "\n",
        "Attributes\n",
        "Unit: degree (supplier to define representation)\n",
        "\n",
        "Geodetic CRS: WGS 84\n",
        "\n",
        "Datum: World Geodetic System 1984 ensemble\n",
        "\n",
        "Data source: EPSG\n",
        "\n",
        "Information source: EPSG. See 3D CRS for original information source.\n",
        "\n",
        "Revision date: 2020-03-14\n",
        "\n",
        "Scope: Horizontal component of 3D system.\n",
        "\n",
        "Area of use: World.\n",
        "\n",
        "Coordinate system: Ellipsoidal 2D CS. Axes: latitude, longitude. Orientations: north, east.\n",
        "\n",
        "UoM: degree\n",
        "\n",
        "https://epsg.io/4326"
      ],
      "metadata": {
        "id": "8SExF1EyEHEW"
      }
    },
    {
      "cell_type": "markdown",
      "source": [
        "_degrees measured upon the WGS84 ellipsoid using longitude and latitude easting from the Greenwich Meridian and Equator_"
      ],
      "metadata": {
        "id": "N4aQ4SUVC95R"
      }
    },
    {
      "cell_type": "markdown",
      "source": [
        "## EPSG:3395\n",
        "Unit: metre\n",
        "\n",
        "Geodetic CRS: WGS 84\n",
        "\n",
        "Datum: World Geodetic System 1984 ensemble\n",
        "\n",
        "Data source: EPSG\n",
        "\n",
        "Information source: OGP\n",
        "\n",
        "Revision date: 2020-03-14\n",
        "\n",
        "Scope: Very small scale conformal mapping.\n",
        "\n",
        "Remarks: Euro-centric view of world excluding polar areas.\n",
        "\n",
        "Area of use: World between 80°S and 84°N.\n",
        "\n",
        "Coordinate system: Cartesian 2D CS. Axes: easting, northing (E,N). Orientations: east, north. UoM: m."
      ],
      "metadata": {
        "id": "6tcTnJ_xDNcH"
      }
    },
    {
      "cell_type": "markdown",
      "source": [
        "https://epsg.io/3395"
      ],
      "metadata": {
        "id": "ADcHsaRSCJON"
      }
    },
    {
      "cell_type": "markdown",
      "source": [
        "_meters northing and easting as measured upon the cylinder formed by projecting the WGS84 ellipsoid using a transverse mercator projection with a central meridian of -123 degrees excluding polar regions south of 80 and north of 84 degrees_"
      ],
      "metadata": {
        "id": "GR-aJdv6E1A8"
      }
    },
    {
      "cell_type": "code",
      "source": [
        "world.to_crs(\"EPSG:3395\").plot();"
      ],
      "metadata": {
        "id": "his6GdjqA_nA",
        "outputId": "dfc5763a-0408-455d-93db-9b9caadaccf6",
        "colab": {
          "base_uri": "https://localhost:8080/",
          "height": 289
        }
      },
      "execution_count": null,
      "outputs": [
        {
          "output_type": "display_data",
          "data": {
            "text/plain": [
              "<Figure size 432x288 with 1 Axes>"
            ],
            "image/png": "[encoded data removed]"
          },
          "metadata": {
            "needs_background": "light"
          }
        }
      ]
    },
    {
      "cell_type": "code",
      "metadata": {
        "id": "4_1cLcjlSm0N",
        "colab": {
          "base_uri": "https://localhost:8080/",
          "height": 312
        },
        "outputId": "f091e4cf-6895-484d-e807-22cf1d4263b4"
      },
      "source": [
        "# Reproject to Mercator (after dropping Antartica)\n",
        "world_nopoles = world[(world.name != \"Antarctica\") & (world.name != \"Fr. S. Antarctic Lands\")]\n",
        "\n",
        "world_nopoles = world_nopoles.to_crs(\"EPSG:3395\") # world.to_crs(epsg=3395) would also work\n",
        "\n",
        "ax = world_nopoles.plot()\n",
        "\n",
        "ax.set_title(\"Mercator\");\n",
        "ax.set_xlabel(\"meters easting\")\n",
        "ax.set_ylabel(\"meters northing\")"
      ],
      "execution_count": null,
      "outputs": [
        {
          "output_type": "execute_result",
          "data": {
            "text/plain": [
              "Text(18.75, 0.5, 'meters northing')"
            ]
          },
          "metadata": {},
          "execution_count": 9
        },
        {
          "output_type": "display_data",
          "data": {
            "text/plain": [
              "<Figure size 432x288 with 1 Axes>"
            ],
            "image/png": "[encoded data removed]"
          },
          "metadata": {
            "needs_background": "light"
          }
        }
      ]
    },
    {
      "cell_type": "markdown",
      "source": [
        "## EPSG:3407\n",
        "\n",
        "Hong Kong 1963 Grid System\n",
        "\n",
        "Attributes\n",
        "Unit: Clarke's foot\n",
        "\n",
        "Geodetic CRS: Hong Kong 1963\n",
        "\n",
        "Datum: Hong Kong 1963\n",
        "\n",
        "Ellipsoid: Clarke 1858\n",
        "\n",
        "Prime meridian: Greenwich\n",
        "\n",
        "Data source: EPSG\n",
        "\n",
        "https://epsg.io/3407"
      ],
      "metadata": {
        "id": "My2YXPk5FPxq"
      }
    },
    {
      "cell_type": "code",
      "source": [
        "ax = world_nopoles.to_crs(\"EPSG:3407\").plot() # hong kong projection\n",
        "\n",
        "ax.set_title(\"HK projection ...\");"
      ],
      "metadata": {
        "id": "_zqcfYT3FpCO",
        "outputId": "042f331c-9113-43a0-ce8e-e5b611503a39",
        "colab": {
          "base_uri": "https://localhost:8080/",
          "height": 294
        }
      },
      "execution_count": null,
      "outputs": [
        {
          "output_type": "display_data",
          "data": {
            "text/plain": [
              "<Figure size 432x288 with 1 Axes>"
            ],
            "image/png": "[encoded data removed]"
          },
          "metadata": {
            "needs_background": "light"
          }
        }
      ]
    },
    {
      "cell_type": "code",
      "metadata": {
        "id": "n73IJJa4Tpg8",
        "colab": {
          "base_uri": "https://localhost:8080/",
          "height": 573
        },
        "outputId": "cf2c5d7e-39ff-4363-926e-cc15fce738ee"
      },
      "source": [
        "ax = world[world.name == \"China\"].to_crs(\"EPSG:3395\").plot() # Mercator projection\n",
        "ax.set_title(\"China, Mercator projection\");\n",
        "ax.set_xlabel(\"meters easting from \")\n",
        "ax.set_ylabel(\"meters northing\")\n",
        "\n",
        "ax = world[world.name == \"China\"].to_crs(\"EPSG:3407\").plot() # hong kong projection\n",
        "ax.set_title(\"China, HK projection\");\n",
        "ax.set_xlabel(\"Clarke's foot easting from HK\")\n",
        "ax.set_ylabel(\"Clarke's foot northing from HK\");"
      ],
      "execution_count": null,
      "outputs": [
        {
          "output_type": "display_data",
          "data": {
            "text/plain": [
              "<Figure size 432x288 with 1 Axes>"
            ],
            "image/png": "[encoded data removed]"
          },
          "metadata": {
            "needs_background": "light"
          }
        },
        {
          "output_type": "display_data",
          "data": {
            "text/plain": [
              "<Figure size 432x288 with 1 Axes>"
            ],
            "image/png": "[encoded data removed]"
          },
          "metadata": {
            "needs_background": "light"
          }
        }
      ]
    },
    {
      "cell_type": "code",
      "source": [
        "ax = world[world.name == \"China\"].to_crs(\"EPSG:3857\").plot()\n",
        "ax = world[world.name == \"China\"].to_crs(\"EPSG:3407\").plot(ax=ax) # hong kong projection\n",
        "ax.set_title(\"China\");\n",
        "ax.axis('off');"
      ],
      "metadata": {
        "id": "64XR6tABG-xk",
        "outputId": "042fd05a-1fbc-45f6-d424-b60691ca75a2",
        "colab": {
          "base_uri": "https://localhost:8080/",
          "height": 213
        }
      },
      "execution_count": null,
      "outputs": [
        {
          "output_type": "display_data",
          "data": {
            "text/plain": [
              "<Figure size 432x288 with 1 Axes>"
            ],
            "image/png": "[encoded data removed]"
          },
          "metadata": {
            "needs_background": "light"
          }
        }
      ]
    },
    {
      "cell_type": "code",
      "metadata": {
        "id": "NBeLfp2xb1Ep",
        "colab": {
          "base_uri": "https://localhost:8080/",
          "height": 206
        },
        "outputId": "6aa946d3-16a6-41c4-fa5f-63a4ce9bbd21"
      },
      "source": [
        "world.head()"
      ],
      "execution_count": null,
      "outputs": [
        {
          "output_type": "execute_result",
          "data": {
            "text/plain": [
              "     pop_est      continent                      name iso_a3  gdp_md_est  \\\n",
              "0     920938        Oceania                      Fiji    FJI      8374.0   \n",
              "1   53950935         Africa                  Tanzania    TZA    150600.0   \n",
              "2     603253         Africa                 W. Sahara    ESH       906.5   \n",
              "3   35623680  North America                    Canada    CAN   1674000.0   \n",
              "4  326625791  North America  United States of America    USA  18560000.0   \n",
              "\n",
              "                                            geometry  \n",
              "0  MULTIPOLYGON (((180.00000 -16.06713, 180.00000...  \n",
              "1  POLYGON ((33.90371 -0.95000, 34.07262 -1.05982...  \n",
              "2  POLYGON ((-8.66559 27.65643, -8.66512 27.58948...  \n",
              "3  MULTIPOLYGON (((-122.84000 49.00000, -122.9742...  \n",
              "4  MULTIPOLYGON (((-122.84000 49.00000, -120.0000...  "
            ],
            "text/html": [
              "\n",
              "  <div id=\"df-839e3c3a-34fb-4342-b220-d01fe6d96f16\">\n",
              "    <div class=\"colab-df-container\">\n",
              "      <div>\n",
              "<style scoped>\n",
              "    .dataframe tbody tr th:only-of-type {\n",
              "        vertical-align: middle;\n",
              "    }\n",
              "\n",
              "    .dataframe tbody tr th {\n",
              "        vertical-align: top;\n",
              "    }\n",
              "\n",
              "    .dataframe thead th {\n",
              "        text-align: right;\n",
              "    }\n",
              "</style>\n",
              "<table border=\"1\" class=\"dataframe\">\n",
              "  <thead>\n",
              "    <tr style=\"text-align: right;\">\n",
              "      <th></th>\n",
              "      <th>pop_est</th>\n",
              "      <th>continent</th>\n",
              "      <th>name</th>\n",
              "      <th>iso_a3</th>\n",
              "      <th>gdp_md_est</th>\n",
              "      <th>geometry</th>\n",
              "    </tr>\n",
              "  </thead>\n",
              "  <tbody>\n",
              "    <tr>\n",
              "      <th>0</th>\n",
              "      <td>920938</td>\n",
              "      <td>Oceania</td>\n",
              "      <td>Fiji</td>\n",
              "      <td>FJI</td>\n",
              "      <td>8374.0</td>\n",
              "      <td>MULTIPOLYGON (((180.00000 -16.06713, 180.00000...</td>\n",
              "    </tr>\n",
              "    <tr>\n",
              "      <th>1</th>\n",
              "      <td>53950935</td>\n",
              "      <td>Africa</td>\n",
              "      <td>Tanzania</td>\n",
              "      <td>TZA</td>\n",
              "      <td>150600.0</td>\n",
              "      <td>POLYGON ((33.90371 -0.95000, 34.07262 -1.05982...</td>\n",
              "    </tr>\n",
              "    <tr>\n",
              "      <th>2</th>\n",
              "      <td>603253</td>\n",
              "      <td>Africa</td>\n",
              "      <td>W. Sahara</td>\n",
              "      <td>ESH</td>\n",
              "      <td>906.5</td>\n",
              "      <td>POLYGON ((-8.66559 27.65643, -8.66512 27.58948...</td>\n",
              "    </tr>\n",
              "    <tr>\n",
              "      <th>3</th>\n",
              "      <td>35623680</td>\n",
              "      <td>North America</td>\n",
              "      <td>Canada</td>\n",
              "      <td>CAN</td>\n",
              "      <td>1674000.0</td>\n",
              "      <td>MULTIPOLYGON (((-122.84000 49.00000, -122.9742...</td>\n",
              "    </tr>\n",
              "    <tr>\n",
              "      <th>4</th>\n",
              "      <td>326625791</td>\n",
              "      <td>North America</td>\n",
              "      <td>United States of America</td>\n",
              "      <td>USA</td>\n",
              "      <td>18560000.0</td>\n",
              "      <td>MULTIPOLYGON (((-122.84000 49.00000, -120.0000...</td>\n",
              "    </tr>\n",
              "  </tbody>\n",
              "</table>\n",
              "</div>\n",
              "      <button class=\"colab-df-convert\" onclick=\"convertToInteractive('df-839e3c3a-34fb-4342-b220-d01fe6d96f16')\"\n",
              "              title=\"Convert this dataframe to an interactive table.\"\n",
              "              style=\"display:none;\">\n",
              "        \n",
              "  <svg xmlns=\"http://www.w3.org/2000/svg\" height=\"24px\"viewBox=\"0 0 24 24\"\n",
              "       width=\"24px\">\n",
              "    <path d=\"M0 0h24v24H0V0z\" fill=\"none\"/>\n",
              "    <path d=\"M18.56 5.44l.94 2.06.94-2.06 2.06-.94-2.06-.94-.94-2.06-.94 2.06-2.06.94zm-11 1L8.5 8.5l.94-2.06 2.06-.94-2.06-.94L8.5 2.5l-.94 2.06-2.06.94zm10 10l.94 2.06.94-2.06 2.06-.94-2.06-.94-.94-2.06-.94 2.06-2.06.94z\"/><path d=\"M17.41 7.96l-1.37-1.37c-.4-.4-.92-.59-1.43-.59-.52 0-1.04.2-1.43.59L10.3 9.45l-7.72 7.72c-.78.78-.78 2.05 0 2.83L4 21.41c.39.39.9.59 1.41.59.51 0 1.02-.2 1.41-.59l7.78-7.78 2.81-2.81c.8-.78.8-2.07 0-2.86zM5.41 20L4 18.59l7.72-7.72 1.47 1.35L5.41 20z\"/>\n",
              "  </svg>\n",
              "      </button>\n",
              "      \n",
              "  <style>\n",
              "    .colab-df-container {\n",
              "      display:flex;\n",
              "      flex-wrap:wrap;\n",
              "      gap: 12px;\n",
              "    }\n",
              "\n",
              "    .colab-df-convert {\n",
              "      background-color: #E8F0FE;\n",
              "      border: none;\n",
              "      border-radius: 50%;\n",
              "      cursor: pointer;\n",
              "      display: none;\n",
              "      fill: #1967D2;\n",
              "      height: 32px;\n",
              "      padding: 0 0 0 0;\n",
              "      width: 32px;\n",
              "    }\n",
              "\n",
              "    .colab-df-convert:hover {\n",
              "      background-color: #E2EBFA;\n",
              "      box-shadow: 0px 1px 2px rgba(60, 64, 67, 0.3), 0px 1px 3px 1px rgba(60, 64, 67, 0.15);\n",
              "      fill: #174EA6;\n",
              "    }\n",
              "\n",
              "    [theme=dark] .colab-df-convert {\n",
              "      background-color: #3B4455;\n",
              "      fill: #D2E3FC;\n",
              "    }\n",
              "\n",
              "    [theme=dark] .colab-df-convert:hover {\n",
              "      background-color: #434B5C;\n",
              "      box-shadow: 0px 1px 3px 1px rgba(0, 0, 0, 0.15);\n",
              "      filter: drop-shadow(0px 1px 2px rgba(0, 0, 0, 0.3));\n",
              "      fill: #FFFFFF;\n",
              "    }\n",
              "  </style>\n",
              "\n",
              "      <script>\n",
              "        const buttonEl =\n",
              "          document.querySelector('#df-839e3c3a-34fb-4342-b220-d01fe6d96f16 button.colab-df-convert');\n",
              "        buttonEl.style.display =\n",
              "          google.colab.kernel.accessAllowed ? 'block' : 'none';\n",
              "\n",
              "        async function convertToInteractive(key) {\n",
              "          const element = document.querySelector('#df-839e3c3a-34fb-4342-b220-d01fe6d96f16');\n",
              "          const dataTable =\n",
              "            await google.colab.kernel.invokeFunction('convertToInteractive',\n",
              "                                                     [key], {});\n",
              "          if (!dataTable) return;\n",
              "\n",
              "          const docLinkHtml = 'Like what you see? Visit the ' +\n",
              "            '<a target=\"_blank\" href=https://colab.research.google.com/notebooks/data_table.ipynb>data table notebook</a>'\n",
              "            + ' to learn more about interactive tables.';\n",
              "          element.innerHTML = '';\n",
              "          dataTable['output_type'] = 'display_data';\n",
              "          await google.colab.output.renderOutput(dataTable, element);\n",
              "          const docLink = document.createElement('div');\n",
              "          docLink.innerHTML = docLinkHtml;\n",
              "          element.appendChild(docLink);\n",
              "        }\n",
              "      </script>\n",
              "    </div>\n",
              "  </div>\n",
              "  "
            ]
          },
          "metadata": {},
          "execution_count": 13
        }
      ]
    },
    {
      "cell_type": "code",
      "metadata": {
        "id": "O8ApBzcqcNcd",
        "colab": {
          "base_uri": "https://localhost:8080/",
          "height": 455
        },
        "outputId": "b6abb8d1-0ad6-4619-db76-10e9700170f6"
      },
      "source": [
        "world.set_index(\"name\", inplace=True)\n",
        "world"
      ],
      "execution_count": null,
      "outputs": [
        {
          "output_type": "execute_result",
          "data": {
            "text/plain": [
              "                            pop_est      continent iso_a3  gdp_md_est  \\\n",
              "name                                                                    \n",
              "Fiji                         920938        Oceania    FJI      8374.0   \n",
              "Tanzania                   53950935         Africa    TZA    150600.0   \n",
              "W. Sahara                    603253         Africa    ESH       906.5   \n",
              "Canada                     35623680  North America    CAN   1674000.0   \n",
              "United States of America  326625791  North America    USA  18560000.0   \n",
              "...                             ...            ...    ...         ...   \n",
              "Serbia                      7111024         Europe    SRB    101800.0   \n",
              "Montenegro                   642550         Europe    MNE     10610.0   \n",
              "Kosovo                      1895250         Europe    -99     18490.0   \n",
              "Trinidad and Tobago         1218208  North America    TTO     43570.0   \n",
              "S. Sudan                   13026129         Africa    SSD     20880.0   \n",
              "\n",
              "                                                                   geometry  \n",
              "name                                                                         \n",
              "Fiji                      MULTIPOLYGON (((180.00000 -16.06713, 180.00000...  \n",
              "Tanzania                  POLYGON ((33.90371 -0.95000, 34.07262 -1.05982...  \n",
              "W. Sahara                 POLYGON ((-8.66559 27.65643, -8.66512 27.58948...  \n",
              "Canada                    MULTIPOLYGON (((-122.84000 49.00000, -122.9742...  \n",
              "United States of America  MULTIPOLYGON (((-122.84000 49.00000, -120.0000...  \n",
              "...                                                                     ...  \n",
              "Serbia                    POLYGON ((18.82982 45.90887, 18.82984 45.90888...  \n",
              "Montenegro                POLYGON ((20.07070 42.58863, 19.80161 42.50009...  \n",
              "Kosovo                    POLYGON ((20.59025 41.85541, 20.52295 42.21787...  \n",
              "Trinidad and Tobago       POLYGON ((-61.68000 10.76000, -61.10500 10.890...  \n",
              "S. Sudan                  POLYGON ((30.83385 3.50917, 29.95350 4.17370, ...  \n",
              "\n",
              "[177 rows x 5 columns]"
            ],
            "text/html": [
              "\n",
              "  <div id=\"df-45db4e95-2174-4a4c-b940-4f1c43c4be33\">\n",
              "    <div class=\"colab-df-container\">\n",
              "      <div>\n",
              "<style scoped>\n",
              "    .dataframe tbody tr th:only-of-type {\n",
              "        vertical-align: middle;\n",
              "    }\n",
              "\n",
              "    .dataframe tbody tr th {\n",
              "        vertical-align: top;\n",
              "    }\n",
              "\n",
              "    .dataframe thead th {\n",
              "        text-align: right;\n",
              "    }\n",
              "</style>\n",
              "<table border=\"1\" class=\"dataframe\">\n",
              "  <thead>\n",
              "    <tr style=\"text-align: right;\">\n",
              "      <th></th>\n",
              "      <th>pop_est</th>\n",
              "      <th>continent</th>\n",
              "      <th>iso_a3</th>\n",
              "      <th>gdp_md_est</th>\n",
              "      <th>geometry</th>\n",
              "    </tr>\n",
              "    <tr>\n",
              "      <th>name</th>\n",
              "      <th></th>\n",
              "      <th></th>\n",
              "      <th></th>\n",
              "      <th></th>\n",
              "      <th></th>\n",
              "    </tr>\n",
              "  </thead>\n",
              "  <tbody>\n",
              "    <tr>\n",
              "      <th>Fiji</th>\n",
              "      <td>920938</td>\n",
              "      <td>Oceania</td>\n",
              "      <td>FJI</td>\n",
              "      <td>8374.0</td>\n",
              "      <td>MULTIPOLYGON (((180.00000 -16.06713, 180.00000...</td>\n",
              "    </tr>\n",
              "    <tr>\n",
              "      <th>Tanzania</th>\n",
              "      <td>53950935</td>\n",
              "      <td>Africa</td>\n",
              "      <td>TZA</td>\n",
              "      <td>150600.0</td>\n",
              "      <td>POLYGON ((33.90371 -0.95000, 34.07262 -1.05982...</td>\n",
              "    </tr>\n",
              "    <tr>\n",
              "      <th>W. Sahara</th>\n",
              "      <td>603253</td>\n",
              "      <td>Africa</td>\n",
              "      <td>ESH</td>\n",
              "      <td>906.5</td>\n",
              "      <td>POLYGON ((-8.66559 27.65643, -8.66512 27.58948...</td>\n",
              "    </tr>\n",
              "    <tr>\n",
              "      <th>Canada</th>\n",
              "      <td>35623680</td>\n",
              "      <td>North America</td>\n",
              "      <td>CAN</td>\n",
              "      <td>1674000.0</td>\n",
              "      <td>MULTIPOLYGON (((-122.84000 49.00000, -122.9742...</td>\n",
              "    </tr>\n",
              "    <tr>\n",
              "      <th>United States of America</th>\n",
              "      <td>326625791</td>\n",
              "      <td>North America</td>\n",
              "      <td>USA</td>\n",
              "      <td>18560000.0</td>\n",
              "      <td>MULTIPOLYGON (((-122.84000 49.00000, -120.0000...</td>\n",
              "    </tr>\n",
              "    <tr>\n",
              "      <th>...</th>\n",
              "      <td>...</td>\n",
              "      <td>...</td>\n",
              "      <td>...</td>\n",
              "      <td>...</td>\n",
              "      <td>...</td>\n",
              "    </tr>\n",
              "    <tr>\n",
              "      <th>Serbia</th>\n",
              "      <td>7111024</td>\n",
              "      <td>Europe</td>\n",
              "      <td>SRB</td>\n",
              "      <td>101800.0</td>\n",
              "      <td>POLYGON ((18.82982 45.90887, 18.82984 45.90888...</td>\n",
              "    </tr>\n",
              "    <tr>\n",
              "      <th>Montenegro</th>\n",
              "      <td>642550</td>\n",
              "      <td>Europe</td>\n",
              "      <td>MNE</td>\n",
              "      <td>10610.0</td>\n",
              "      <td>POLYGON ((20.07070 42.58863, 19.80161 42.50009...</td>\n",
              "    </tr>\n",
              "    <tr>\n",
              "      <th>Kosovo</th>\n",
              "      <td>1895250</td>\n",
              "      <td>Europe</td>\n",
              "      <td>-99</td>\n",
              "      <td>18490.0</td>\n",
              "      <td>POLYGON ((20.59025 41.85541, 20.52295 42.21787...</td>\n",
              "    </tr>\n",
              "    <tr>\n",
              "      <th>Trinidad and Tobago</th>\n",
              "      <td>1218208</td>\n",
              "      <td>North America</td>\n",
              "      <td>TTO</td>\n",
              "      <td>43570.0</td>\n",
              "      <td>POLYGON ((-61.68000 10.76000, -61.10500 10.890...</td>\n",
              "    </tr>\n",
              "    <tr>\n",
              "      <th>S. Sudan</th>\n",
              "      <td>13026129</td>\n",
              "      <td>Africa</td>\n",
              "      <td>SSD</td>\n",
              "      <td>20880.0</td>\n",
              "      <td>POLYGON ((30.83385 3.50917, 29.95350 4.17370, ...</td>\n",
              "    </tr>\n",
              "  </tbody>\n",
              "</table>\n",
              "<p>177 rows × 5 columns</p>\n",
              "</div>\n",
              "      <button class=\"colab-df-convert\" onclick=\"convertToInteractive('df-45db4e95-2174-4a4c-b940-4f1c43c4be33')\"\n",
              "              title=\"Convert this dataframe to an interactive table.\"\n",
              "              style=\"display:none;\">\n",
              "        \n",
              "  <svg xmlns=\"http://www.w3.org/2000/svg\" height=\"24px\"viewBox=\"0 0 24 24\"\n",
              "       width=\"24px\">\n",
              "    <path d=\"M0 0h24v24H0V0z\" fill=\"none\"/>\n",
              "    <path d=\"M18.56 5.44l.94 2.06.94-2.06 2.06-.94-2.06-.94-.94-2.06-.94 2.06-2.06.94zm-11 1L8.5 8.5l.94-2.06 2.06-.94-2.06-.94L8.5 2.5l-.94 2.06-2.06.94zm10 10l.94 2.06.94-2.06 2.06-.94-2.06-.94-.94-2.06-.94 2.06-2.06.94z\"/><path d=\"M17.41 7.96l-1.37-1.37c-.4-.4-.92-.59-1.43-.59-.52 0-1.04.2-1.43.59L10.3 9.45l-7.72 7.72c-.78.78-.78 2.05 0 2.83L4 21.41c.39.39.9.59 1.41.59.51 0 1.02-.2 1.41-.59l7.78-7.78 2.81-2.81c.8-.78.8-2.07 0-2.86zM5.41 20L4 18.59l7.72-7.72 1.47 1.35L5.41 20z\"/>\n",
              "  </svg>\n",
              "      </button>\n",
              "      \n",
              "  <style>\n",
              "    .colab-df-container {\n",
              "      display:flex;\n",
              "      flex-wrap:wrap;\n",
              "      gap: 12px;\n",
              "    }\n",
              "\n",
              "    .colab-df-convert {\n",
              "      background-color: #E8F0FE;\n",
              "      border: none;\n",
              "      border-radius: 50%;\n",
              "      cursor: pointer;\n",
              "      display: none;\n",
              "      fill: #1967D2;\n",
              "      height: 32px;\n",
              "      padding: 0 0 0 0;\n",
              "      width: 32px;\n",
              "    }\n",
              "\n",
              "    .colab-df-convert:hover {\n",
              "      background-color: #E2EBFA;\n",
              "      box-shadow: 0px 1px 2px rgba(60, 64, 67, 0.3), 0px 1px 3px 1px rgba(60, 64, 67, 0.15);\n",
              "      fill: #174EA6;\n",
              "    }\n",
              "\n",
              "    [theme=dark] .colab-df-convert {\n",
              "      background-color: #3B4455;\n",
              "      fill: #D2E3FC;\n",
              "    }\n",
              "\n",
              "    [theme=dark] .colab-df-convert:hover {\n",
              "      background-color: #434B5C;\n",
              "      box-shadow: 0px 1px 3px 1px rgba(0, 0, 0, 0.15);\n",
              "      filter: drop-shadow(0px 1px 2px rgba(0, 0, 0, 0.3));\n",
              "      fill: #FFFFFF;\n",
              "    }\n",
              "  </style>\n",
              "\n",
              "      <script>\n",
              "        const buttonEl =\n",
              "          document.querySelector('#df-45db4e95-2174-4a4c-b940-4f1c43c4be33 button.colab-df-convert');\n",
              "        buttonEl.style.display =\n",
              "          google.colab.kernel.accessAllowed ? 'block' : 'none';\n",
              "\n",
              "        async function convertToInteractive(key) {\n",
              "          const element = document.querySelector('#df-45db4e95-2174-4a4c-b940-4f1c43c4be33');\n",
              "          const dataTable =\n",
              "            await google.colab.kernel.invokeFunction('convertToInteractive',\n",
              "                                                     [key], {});\n",
              "          if (!dataTable) return;\n",
              "\n",
              "          const docLinkHtml = 'Like what you see? Visit the ' +\n",
              "            '<a target=\"_blank\" href=https://colab.research.google.com/notebooks/data_table.ipynb>data table notebook</a>'\n",
              "            + ' to learn more about interactive tables.';\n",
              "          element.innerHTML = '';\n",
              "          dataTable['output_type'] = 'display_data';\n",
              "          await google.colab.output.renderOutput(dataTable, element);\n",
              "          const docLink = document.createElement('div');\n",
              "          docLink.innerHTML = docLinkHtml;\n",
              "          element.appendChild(docLink);\n",
              "        }\n",
              "      </script>\n",
              "    </div>\n",
              "  </div>\n",
              "  "
            ]
          },
          "metadata": {},
          "execution_count": 14
        }
      ]
    },
    {
      "cell_type": "code",
      "metadata": {
        "id": "5-mk7LAPcEFq",
        "colab": {
          "base_uri": "https://localhost:8080/",
          "height": 121
        },
        "outputId": "f490fc2a-2bba-4cd3-e956-b54b239de129"
      },
      "source": [
        "# a multipolygon\n",
        "world.loc[\"Italy\", \"geometry\"]"
      ],
      "execution_count": null,
      "outputs": [
        {
          "output_type": "execute_result",
          "data": {
            "text/plain": [
              "<shapely.geometry.multipolygon.MultiPolygon at 0x7fc4094e1c10>"
            ],
            "image/svg+xml": "<svg xmlns=\"http://www.w3.org/2000/svg\" xmlns:xlink=\"http://www.w3.org/1999/xlink\" width=\"100.0\" height=\"100.0\" viewBox=\"6.280743605177904 36.150775621071645 12.66871508794128 11.433829223678558\" preserveAspectRatio=\"xMinYMin meet\"><g transform=\"matrix(1,0,0,-1,0,83.73538046582185)\"><g><path fill-rule=\"evenodd\" fill=\"#66cc99\" stroke=\"#555555\" stroke-width=\"0.2533743017588256\" opacity=\"0.6\" d=\"M 10.44270145024663,46.89354625099743 L 11.048555942436536,46.75135854754634 L 11.16482791509327,46.94157949481273 L 12.153088006243054,47.11539317482645 L 12.376485223040817,46.76755910906985 L 13.806475457421527,46.509306138691215 L 13.698109978905478,46.01677806251735 L 13.937630242578308,45.59101593686462 L 13.141606479554296,45.73669179949542 L 12.32858117030625,45.381778062514826 L 12.383874952858548,44.885374253919096 L 12.261453484759102,44.600482082693986 L 12.589237094786455,44.09136587175446 L 13.526905958722494,43.587727362637864 L 14.029820997787029,42.761007798832466 L 15.142569614327925,41.95513967545685 L 15.926191033601896,41.961315009115715 L 16.169897088290384,41.74029490820339 L 15.889345737377797,41.541082261718216 L 16.785001661860548,41.17960561783656 L 17.51916873543118,40.87714345963222 L 18.37668745288252,40.35562490494263 L 18.48024702319543,40.16886627863981 L 18.293385044028042,39.810774441073264 L 17.738380161213314,40.277671006830346 L 16.869595981522338,40.44223460546381 L 16.448743116937322,39.79540070246644 L 17.17148969897147,39.42469981542068 L 17.052840610429314,38.90287120213735 L 16.635088331781816,38.843572496082416 L 16.100960727613,37.9858987493342 L 15.684086948314473,37.908849188787016 L 15.687962680736348,38.21459280044188 L 15.89198123542468,38.75094249119924 L 16.109332309644287,38.9645470240777 L 15.718813510814613,39.54407237401492 L 15.413612501698793,40.048356838535156 L 14.99849572109818,40.17294871679087 L 14.703268263414714,40.604550279292596 L 14.060671827865264,40.7863479680954 L 13.627985060285397,41.1882872584616 L 12.888081902730365,41.253089504555604 L 12.106682570044939,41.70453481705741 L 11.191906365614216,42.3554253199897 L 10.51194786951774,42.93146251074721 L 10.200028924203991,43.9200068222746 L 9.702488234097842,44.03627879493132 L 8.88894616052687,44.36633616797951 L 8.428560825238577,44.23122813575242 L 7.8507666357831445,43.76714793555524 L 7.435184767291872,43.69384491634922 L 7.549596388386107,44.12790110938481 L 7.007562290076635,44.25476675066136 L 6.749955275101655,45.02851797136758 L 7.096652459347837,45.33309886329589 L 6.802355177445605,45.70857982032864 L 6.843592970414505,45.99114655210061 L 7.2738509456766565,45.776947740250776 L 7.7559920589598335,45.82449005795931 L 8.31662967289438,46.16364248309086 L 8.489952426801324,46.005150865251686 L 8.966305779667806,46.03693187111119 L 9.182881707403055,46.44021474871698 L 9.922836541390382,46.31489940040919 L 10.363378126678612,46.48357127540986 L 10.44270145024663,46.89354625099743 z\" /><path fill-rule=\"evenodd\" fill=\"#66cc99\" stroke=\"#555555\" stroke-width=\"0.2533743017588256\" opacity=\"0.6\" d=\"M 14.761249220446189,38.14387360285046 L 15.520376010813806,38.23115509699143 L 15.160242954171736,37.44404551853776 L 15.309897902089006,37.13421946873183 L 15.099988234119422,36.6199872909954 L 14.335228712631988,36.996630967754726 L 13.826732618879959,37.10453135838016 L 12.431003859108756,37.61294993748375 L 12.570943637755136,38.12638113051966 L 13.741156447004613,38.03496552179533 L 14.761249220446189,38.14387360285046 z\" /><path fill-rule=\"evenodd\" fill=\"#66cc99\" stroke=\"#555555\" stroke-width=\"0.2533743017588256\" opacity=\"0.6\" d=\"M 8.709990675500109,40.899984442705225 L 9.210011834356266,41.209991360024176 L 9.80997521326492,40.50000885676613 L 9.669518670295616,39.17737641047178 L 9.214817742559433,39.24047333430015 L 8.806935662479674,38.906617743478506 L 8.428302443077115,39.17184703221655 L 8.388253208050912,40.37831085871876 L 8.159998406617689,40.95000722916376 L 8.709990675500109,40.899984442705225 z\" /></g></g></svg>"
          },
          "metadata": {},
          "execution_count": 15
        }
      ]
    },
    {
      "cell_type": "code",
      "metadata": {
        "id": "reVcgEOZb6AD",
        "colab": {
          "base_uri": "https://localhost:8080/",
          "height": 121
        },
        "outputId": "6a1053ea-2131-4f13-d06e-4a66dc7c19a5"
      },
      "source": [
        "# a polygon\n",
        "world.loc[\"Tanzania\", \"geometry\"]"
      ],
      "execution_count": null,
      "outputs": [
        {
          "output_type": "execute_result",
          "data": {
            "text/plain": [
              "<shapely.geometry.polygon.Polygon at 0x7fc40952d890>"
            ],
            "image/svg+xml": "<svg xmlns=\"http://www.w3.org/2000/svg\" xmlns:xlink=\"http://www.w3.org/1999/xlink\" width=\"100.0\" height=\"100.0\" viewBox=\"28.90093389661636 -12.160001698450722 11.854719799667649 11.64906539473471\" preserveAspectRatio=\"xMinYMin meet\"><g transform=\"matrix(1,0,0,-1,0,-12.670938002166736)\"><path fill-rule=\"evenodd\" fill=\"#66cc99\" stroke=\"#555555\" stroke-width=\"0.23709439599335297\" opacity=\"0.6\" d=\"M 33.90371119710453,-0.9500000000000001 L 34.07261999999997,-1.0598199999999451 L 37.69868999999994,-3.0969899999999484 L 37.7669,-3.6771200000000004 L 39.20222,-4.67677 L 38.74053999999995,-5.9089499999999475 L 38.79977000000008,-6.475660000000005 L 39.44,-6.839999999999861 L 39.47000000000014,-7.099999999999966 L 39.19468999999998,-7.703899999999976 L 39.25203000000005,-8.00780999999995 L 39.18652000000009,-8.48550999999992 L 39.53574000000009,-9.112369999999885 L 39.94960000000003,-10.098400000000026 L 40.316586229110854,-10.317097752817492 L 40.31659000000002,-10.317099999999868 L 39.52099999999996,-10.89688000000001 L 38.42755659358775,-11.285202325081656 L 37.827639999999974,-11.26878999999991 L 37.471289999999954,-11.568759999999997 L 36.775150994622805,-11.594537448780805 L 36.51408165868426,-11.720938002166735 L 35.31239790216904,-11.439146416879147 L 34.55998904799935,-11.520020033415925 L 34.27999999999997,-10.160000000000025 L 33.940837724096525,-9.693673841980285 L 33.73972000000009,-9.417149999999992 L 32.75937544122132,-9.23059905358906 L 32.19186486179194,-8.930358981973257 L 31.556348097466497,-8.762048841998642 L 31.15775133695005,-8.594578747317366 L 30.740009731422095,-8.34000593035372 L 30.74001549655179,-8.340007419470915 L 30.199996779101696,-7.079980970898163 L 29.620032179490014,-6.520015150583426 L 29.419992710088167,-5.939998874539434 L 29.519986606572928,-5.419978936386315 L 29.339997592900346,-4.4999834122940925 L 29.753512404099865,-4.452389418153302 L 30.11632000000003,-4.090120000000013 L 30.505539999999996,-3.5685799999999404 L 30.752240000000086,-3.3593099999999936 L 30.743010000000027,-3.034309999999948 L 30.527660000000026,-2.807619999999986 L 30.469673645761223,-2.41385475710134 L 30.469670000000008,-2.4138299999999617 L 30.75830895358311,-2.2872502579883687 L 30.816134881317712,-1.6989140763453887 L 30.419104852019245,-1.1346591121504161 L 30.769860000000108,-1.0145499999999856 L 31.866170000000068,-1.0273599999999306 L 33.90371119710453,-0.9500000000000001 z\" /></g></svg>"
          },
          "metadata": {},
          "execution_count": 16
        }
      ]
    }
  ]
}